{
 "cells": [
  {
   "cell_type": "code",
   "execution_count": 1,
   "id": "4b6ffe0b",
   "metadata": {},
   "outputs": [],
   "source": [
    "import re\n",
    "import json\n",
    "import locale\n",
    "import requests\n",
    "import pandas as pd\n",
    "from mplogger import Logger\n",
    "from datetime import datetime\n",
    "from bs4 import BeautifulSoup\n",
    "from collections import Counter\n",
    "from html2tei import parse_date\n",
    "\n",
    "from html2tei import parse_date\n",
    "from warcio.archiveiterator import ArchiveIterator\n",
    "from webarticlecurator import WarcCachingDownloader\n",
    "\n",
    "from origo_specific import get_meta_from_articles_spec as get_meta"
   ]
  },
  {
   "cell_type": "markdown",
   "id": "968692e1",
   "metadata": {},
   "source": [
    "## NOTES\n",
    "- Ezzekkel a galéria cikkekkel mi lesz? https://www.origo.hu/auto/galeria/20220317-volkswagen-t7-multivan-etsi-teszt-2022-galeria.html\n",
    "- https://www.origo.hu/sport/kozvetites/20211009-magyarorszag-albania-vbselejtezo-elo-kozvetites-puskas-arena-kepek-percrol-percre.html Formátum 3\n",
    "- Miért rossz az olimpiás? https://www.origo.hu/sport/olimpia/galeria/20210726-gordeszka-latvanyos-kepek.html\n",
    "- A közvetítésnél mi legyen az sch:name? "
   ]
  },
  {
   "cell_type": "code",
   "execution_count": 4,
   "id": "08a321be",
   "metadata": {},
   "outputs": [
    {
     "name": "stderr",
     "output_type": "stream",
     "text": [
      "2022-03-30 13:51:45,717 INFO: Logging started\n",
      "2022-03-30 13:51:45,717 INFO: Logging started\n"
     ]
    }
   ],
   "source": [
    "logger = Logger()"
   ]
  },
  {
   "cell_type": "code",
   "execution_count": 6,
   "id": "c7490ff7",
   "metadata": {},
   "outputs": [],
   "source": [
    "# Links:\n",
    "kozvetites_link = 'https://www.origo.hu/sport/kozvetites/20211202-kezilabda-noi-vilagbajnoksag-magyarorszag-szlovakia-elo-kozvetites.html'\n",
    "olimpia_link = 'https://www.origo.hu/sport/olimpia/galeria/20210726-gordeszka-latvanyos-kepek.html'\n",
    "ronaldo_link = 'https://www.origo.hu/sport/futball/20220315-ronaldo-ismet-bizonyithat-kedvenc-ellenfele-ellen-otthon-juthat-tovabb-a-bl-titkos-eselyese.html'\n",
    "auto_link = 'https://www.origo.hu/auto/20220325-a-forgalommal-szemben-kanyarodott-fel-a-4es-utra-balszerencsejere-pont-ott-voltak-a-rendorok-video.html'\n",
    "gallery_link = 'https://www.origo.hu/sport/galeria/20220317-a-szexi-luisinha-barosa-oliveira-mclaren-lando-norris-kepek-fotok-galeria.html'"
   ]
  },
  {
   "cell_type": "code",
   "execution_count": 3,
   "id": "c3c09edb",
   "metadata": {},
   "outputs": [],
   "source": [
    "def response_warc_record_gen(warc_filename):\n",
    "    archive_base = ArchiveIterator(open(warc_filename, 'rb'))\n",
    "    for rec in archive_base:\n",
    "        if rec.rec_type == 'response':\n",
    "            article_url = rec.rec_headers.get_header('WARC-Target-URI')\n",
    "            raw_html = rec.content_stream().read()\n",
    "            yield article_url, raw_html\n",
    "\n",
    "def response_warc_record_gen(warc_filename):\n",
    "    archive_base = ArchiveIterator(open(warc_filename, 'rb'))\n",
    "    for rec in archive_base:\n",
    "        if rec.rec_type == 'response':\n",
    "            article_url = rec.rec_headers.get_header('WARC-Target-URI')\n",
    "            raw_html = rec.content_stream().read()\n",
    "            yield article_url, raw_html\n",
    "\n",
    "def extract_resp_record_data(resp):\n",
    "    \"\"\"Extract response date, WARC ID and raw HTML from a WARC response record\"\"\"\n",
    "    warc_response_date = resp.rec_headers.get_header('WARC-Date')\n",
    "    if '.' in warc_response_date:\n",
    "        date_format = '%Y-%m-%dT%H:%M:%S.%fZ'\n",
    "    else:\n",
    "        date_format = '%Y-%m-%dT%H:%M:%SZ'\n",
    "    warc_response_datetime = datetime.strptime(warc_response_date, date_format)\n",
    "    warc_id = resp.rec_headers.get_header('WARC-Record-ID')\n",
    "    raw_html = resp.content_stream().read().decode(resp.rec_headers.get_header('WARC-X-Detected-Encoding'))\n",
    "\n",
    "    return warc_response_datetime, warc_id, raw_html\n",
    "\n",
    "def from_request(link):\n",
    "    txt = requests.get(link).text\n",
    "    soup = BeautifulSoup(txt, 'lxml')\n",
    "    return soup"
   ]
  },
  {
   "cell_type": "code",
   "execution_count": 5,
   "id": "95eb4e3d",
   "metadata": {},
   "outputs": [
    {
     "ename": "SyntaxError",
     "evalue": "invalid syntax (4218791069.py, line 1)",
     "output_type": "error",
     "traceback": [
      "\u001b[0;36m  Input \u001b[0;32mIn [5]\u001b[0;36m\u001b[0m\n\u001b[0;31m    <meta name=\"publish-date\" content=\"2022-03-17\" />\u001b[0m\n\u001b[0m    ^\u001b[0m\n\u001b[0;31mSyntaxError\u001b[0m\u001b[0;31m:\u001b[0m invalid syntax\n"
     ]
    }
   ],
   "source": [
    "<meta name=\"publish-date\" content=\"2022-03-17\" />\n",
    "<meta name=\"modified-date\" content=\"2022-03-17\" />"
   ]
  },
  {
   "cell_type": "code",
   "execution_count": 6,
   "id": "7b12de06",
   "metadata": {},
   "outputs": [
    {
     "name": "stdout",
     "output_type": "stream",
     "text": [
      "2022-03-17\n"
     ]
    }
   ],
   "source": [
    "date = from_request(gallery_link).find('meta', {'name':'publish-date'})['content']\n",
    "print(date)"
   ]
  },
  {
   "cell_type": "code",
   "execution_count": 7,
   "id": "5cdbf193",
   "metadata": {},
   "outputs": [
    {
     "data": {
      "text/plain": [
       "datetime.datetime(2022, 3, 17, 0, 0)"
      ]
     },
     "execution_count": 7,
     "metadata": {},
     "output_type": "execute_result"
    }
   ],
   "source": [
    "parse_date(date, \"%Y-%m-%d\")"
   ]
  },
  {
   "cell_type": "code",
   "execution_count": 8,
   "id": "1e21d290",
   "metadata": {},
   "outputs": [
    {
     "name": "stderr",
     "output_type": "stream",
     "text": [
      "https://www.origo.hu/sport/kozvetites/20211202-kezilabda-noi-vilagbajnoksag-magyarorszag-szlovakia-elo-kozvetites.html ARTICLE FORMAT UNACCOUNTED FOR\n"
     ]
    },
    {
     "data": {
      "text/plain": [
       "defaultdict(<function html2tei.tei_utils.tei_defaultdict.<locals>.<lambda>()>,\n",
       "            {'sch:url': 'https://www.origo.hu/sport/kozvetites/20211202-kezilabda-noi-vilagbajnoksag-magyarorszag-szlovakia-elo-kozvetites.html',\n",
       "             'sch:name': None})"
      ]
     },
     "execution_count": 8,
     "metadata": {},
     "output_type": "execute_result"
    }
   ],
   "source": [
    "get_meta(logger, kozvetites_link, from_request(kozvetites_link).find('title'))"
   ]
  },
  {
   "cell_type": "code",
   "execution_count": 7,
   "id": "c9624d1e",
   "metadata": {},
   "outputs": [
    {
     "data": {
      "text/plain": [
       "<div class=\"sportonline_header\" id=\"article-head\">\n",
       "<div id=\"sportonline_cikk_header\">\n",
       "<div class=\"so_header_timeline_datas\">\n",
       "<div class=\"so_extra_data_1\"></div>\n",
       "<div class=\"so_header_team_datas container clearfix\">\n",
       "<div class=\"so_header_team so_header_team_left clearfix\">\n",
       "<div class=\"so_team_logo\">\n",
       "<img alt=\"\" height=\"84\" src=\"\" width=\"84\"/>\n",
       "</div>\n",
       "<div class=\"so_team_name\"><span class=\"so_team_shortname\"></span></div>\n",
       "<div class=\"so_team_point\"></div>\n",
       "</div>\n",
       "<div class=\"so_header_team so_header_team_right clearfix\">\n",
       "<div class=\"so_team_point\"></div>\n",
       "<div class=\"so_team_logo\">\n",
       "<img alt=\"\" height=\"84\" src=\"\" width=\"84\"/>\n",
       "</div>\n",
       "<div class=\"so_team_name\"><span class=\"so_team_shortname\"></span></div>\n",
       "</div>\n",
       "</div>\n",
       "<div class=\"so_extra_data_2\"></div>\n",
       "<div class=\"so_place_datas container\">\n",
       "<span></span>, <span></span>\n",
       "</div>\n",
       "<div class=\"so_timeline_widget container clearfix\">\n",
       "<div class=\"so_timeline_teams\">\n",
       "<div class=\"so_timeline_team_left clearfix\">\n",
       "<div class=\"so_team_name\"> </div>\n",
       "<div class=\"so_team_point\"> </div>\n",
       "</div>\n",
       "<div class=\"so_timeline_team_right clearfix\">\n",
       "<div class=\"so_team_name\"> </div>\n",
       "<div class=\"so_team_point\"> </div>\n",
       "</div>\n",
       "</div>\n",
       "<div class=\"so_timeline_lines clearfix\">\n",
       "</div>\n",
       "<div class=\"so_timeline_message\">\n",
       "<span class=\"m_online\">Élő</span>\n",
       "<span class=\"m_ended\">Lefújva</span>\n",
       "</div>\n",
       "</div>\n",
       "</div>\n",
       "<div class=\"sportonline_tabs container clearfix\">\n",
       "<div class=\"so_tab\" data-tab=\"tab_content_groups\">Csapatok</div>\n",
       "<div class=\"so_tab active\" data-tab=\"tab_content_live\">Élő</div>\n",
       "<div class=\"article-sharing\">\n",
       "<div class=\"fb-like\" data-action=\"recommend\" data-layout=\"button_count\" data-share=\"false\" data-show-faces=\"false\"></div>\n",
       "</div>\n",
       "</div>\n",
       "</div>\n",
       "</div>"
      ]
     },
     "execution_count": 7,
     "metadata": {},
     "output_type": "execute_result"
    }
   ],
   "source": [
    "from_request(kozvetites_link).find('div', class_='sportonline_header').find('')"
   ]
  },
  {
   "cell_type": "code",
   "execution_count": 11,
   "id": "3304a108",
   "metadata": {},
   "outputs": [],
   "source": [
    "\n",
    "warc_filename = '../../warcs_dir/origo-articles_new3.warc.gz'\n",
    "# w = WarcCachingDownloader(warc_filename, None, logger, just_cache=True, download_params={'stay_offline': True})"
   ]
  },
  {
   "cell_type": "code",
   "execution_count": 12,
   "id": "42d69357",
   "metadata": {},
   "outputs": [
    {
     "data": {
      "text/plain": [
       "'galeria'"
      ]
     },
     "execution_count": 12,
     "metadata": {},
     "output_type": "execute_result"
    }
   ],
   "source": [
    "gallery_link.split('/')[4]"
   ]
  },
  {
   "cell_type": "code",
   "execution_count": 13,
   "id": "4f39cb7e",
   "metadata": {},
   "outputs": [],
   "source": [
    "with open('gallery_links.txt', 'r') as infile:\n",
    "    gallery_links = infile.read().splitlines()"
   ]
  },
  {
   "cell_type": "code",
   "execution_count": 14,
   "id": "917d43d2",
   "metadata": {},
   "outputs": [
    {
     "data": {
      "text/plain": [
       "{'auto',\n",
       " 'filmklub',\n",
       " 'gazdasag',\n",
       " 'itthon',\n",
       " 'nagyvilag',\n",
       " 'sport',\n",
       " 'tafelspicc',\n",
       " 'techbazis',\n",
       " 'tudomany'}"
      ]
     },
     "execution_count": 14,
     "metadata": {},
     "output_type": "execute_result"
    }
   ],
   "source": [
    "set([l.split('/')[3] for l in gallery_links])"
   ]
  },
  {
   "cell_type": "code",
   "execution_count": 15,
   "id": "49125a41",
   "metadata": {},
   "outputs": [
    {
     "ename": "NameError",
     "evalue": "name 'w' is not defined",
     "output_type": "error",
     "traceback": [
      "\u001b[0;31m---------------------------------------------------------------------------\u001b[0m",
      "\u001b[0;31mNameError\u001b[0m                                 Traceback (most recent call last)",
      "Input \u001b[0;32mIn [15]\u001b[0m, in \u001b[0;36m<cell line: 2>\u001b[0;34m()\u001b[0m\n\u001b[1;32m      1\u001b[0m \u001b[38;5;66;03m# FROM WARC\u001b[39;00m\n\u001b[0;32m----> 2\u001b[0m _, _, resp \u001b[38;5;241m=\u001b[39m \u001b[43mw\u001b[49m\u001b[38;5;241m.\u001b[39mget_records(link4)\n\u001b[1;32m      3\u001b[0m warc_response_datetime, warc_id, raw_html \u001b[38;5;241m=\u001b[39m extract_resp_record_data(resp)\n\u001b[1;32m      4\u001b[0m soup \u001b[38;5;241m=\u001b[39m BeautifulSoup(raw_html, \u001b[38;5;124m'\u001b[39m\u001b[38;5;124mlxml\u001b[39m\u001b[38;5;124m'\u001b[39m)\n",
      "\u001b[0;31mNameError\u001b[0m: name 'w' is not defined"
     ]
    }
   ],
   "source": [
    "# FROM WARC\n",
    "_, _, resp = w.get_records(link4)\n",
    "warc_response_datetime, warc_id, raw_html = extract_resp_record_data(resp)\n",
    "soup = BeautifulSoup(raw_html, 'lxml')\n",
    "get_meta(logger, link, soup)\n"
   ]
  },
  {
   "cell_type": "code",
   "execution_count": 19,
   "id": "94cfe76d",
   "metadata": {},
   "outputs": [
    {
     "name": "stderr",
     "output_type": "stream",
     "text": [
      "2022-03-25 17:05:17,347 WARNING: https://www.origo.hu/sport/olimpia/galeria/20210726-gordeszka-latvanyos-kepek.html GALLERY LINK FAILED TO PARSE\n"
     ]
    },
    {
     "data": {
      "text/plain": [
       "defaultdict(<function html2tei.tei_utils.tei_defaultdict.<locals>.<lambda>()>,\n",
       "            {'sch:url': 'https://www.origo.hu/sport/olimpia/galeria/20210726-gordeszka-latvanyos-kepek.html',\n",
       "             'sch:name': 'Az olimpia egyik bemutatkozó sportága egyben az egyik leglátványosabb is - képek',\n",
       "             'sch:datePublished': datetime.datetime(2021, 7, 26, 0, 0),\n",
       "             'sch:articleSection': 'Sport',\n",
       "             'sch:dateModified': datetime.datetime(2021, 7, 26, 0, 0)})"
      ]
     },
     "execution_count": 19,
     "metadata": {},
     "output_type": "execute_result"
    }
   ],
   "source": [
    "get_meta(logger, olimpia_link, from_request(olimpia_link))"
   ]
  },
  {
   "cell_type": "code",
   "execution_count": 17,
   "id": "af800615",
   "metadata": {},
   "outputs": [
    {
     "data": {
      "text/plain": [
       "<header xmlns:msxsl=\"urn:schemas-microsoft-com:xslt\" xmlns:user=\"http://mycompany.com/mynamespace\"><h1 class=\"gallery-title\">Az olimpia egyik bemutatkozó sportága egyben az egyik leglátványosabb is - képek</h1><a class=\"go-home\" href=\"#\"></a><a class=\"thumbnails\" href=\"#\"></a><a class=\"full-screen\" href=\"#\"></a><a class=\"close-gallery\" href=\"#\"></a></header>"
      ]
     },
     "execution_count": 17,
     "metadata": {},
     "output_type": "execute_result"
    }
   ],
   "source": [
    "from_request(olimpia_link).find('body', {'class': 'gallery'}).find('header')"
   ]
  },
  {
   "cell_type": "code",
   "execution_count": 18,
   "id": "4beb014e",
   "metadata": {},
   "outputs": [
    {
     "data": {
      "text/plain": [
       "'olimpia'"
      ]
     },
     "execution_count": 18,
     "metadata": {},
     "output_type": "execute_result"
    }
   ],
   "source": [
    "olimpia_link.split('/')[4]"
   ]
  },
  {
   "cell_type": "code",
   "execution_count": null,
   "id": "3a8bc01a",
   "metadata": {},
   "outputs": [],
   "source": []
  }
 ],
 "metadata": {
  "kernelspec": {
   "display_name": "Python 3 (ipykernel)",
   "language": "python",
   "name": "python3"
  },
  "language_info": {
   "codemirror_mode": {
    "name": "ipython",
    "version": 3
   },
   "file_extension": ".py",
   "mimetype": "text/x-python",
   "name": "python",
   "nbconvert_exporter": "python",
   "pygments_lexer": "ipython3",
   "version": "3.8.0"
  }
 },
 "nbformat": 4,
 "nbformat_minor": 5
}
