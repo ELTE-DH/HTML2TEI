{
 "cells": [
  {
   "cell_type": "code",
   "execution_count": 1,
   "id": "4b6ffe0b",
   "metadata": {},
   "outputs": [],
   "source": [
    "import re\n",
    "import json\n",
    "import locale\n",
    "import requests\n",
    "import importlib\n",
    "import pandas as pd\n",
    "from mplogger import Logger\n",
    "from datetime import datetime\n",
    "from bs4 import BeautifulSoup\n",
    "from collections import Counter\n",
    "from html2tei import parse_date\n",
    "from html2tei import parse_date\n",
    "from warcio.archiveiterator import ArchiveIterator\n",
    "from webarticlecurator import WarcCachingDownloader\n",
    "\n",
    "\n",
    "import origo_specific"
   ]
  },
  {
   "cell_type": "code",
   "execution_count": 2,
   "id": "aed2b92f",
   "metadata": {},
   "outputs": [],
   "source": [
    "\n",
    "\n",
    "importlib.reload(origo_specific)\n",
    "from origo_specific import get_meta_from_articles_spec as get_meta"
   ]
  },
  {
   "cell_type": "markdown",
   "id": "968692e1",
   "metadata": {},
   "source": [
    "## NOTES\n",
    "- Ezzekkel a galéria cikkekkel mi lesz? https://www.origo.hu/auto/galeria/20220317-volkswagen-t7-multivan-etsi-teszt-2022-galeria.html\n",
    "- https://www.origo.hu/sport/kozvetites/20211009-magyarorszag-albania-vbselejtezo-elo-kozvetites-puskas-arena-kepek-percrol-percre.html Formátum 3\n",
    "- Miért rossz az olimpiás? https://www.origo.hu/sport/olimpia/galeria/20210726-gordeszka-latvanyos-kepek.html\n",
    "- A közvetítésnél mi legyen az sch:name? \n",
    "- Archivum url-ek miért vannak benne az articles.warc-ban? https://www.origo.hu/hir-archivum/index.html -- BLACKLIST-elni kell őket\n",
    "- Mi van a valasztas 2010-el?\n",
    "\n",
    "## TODO\n",
    "- Move keyword extraction from script tag outside and append extra keywords if found [DONE]"
   ]
  },
  {
   "cell_type": "code",
   "execution_count": 5,
   "id": "08a321be",
   "metadata": {},
   "outputs": [
    {
     "name": "stderr",
     "output_type": "stream",
     "text": [
      "2022-07-26 11:24:26,780 INFO: Logging started\n"
     ]
    }
   ],
   "source": [
    "logger = Logger()"
   ]
  },
  {
   "cell_type": "code",
   "execution_count": 17,
   "id": "c7490ff7",
   "metadata": {},
   "outputs": [],
   "source": [
    "# Links:\n",
    "kozvetites_link = 'https://www.origo.hu/sport/kozvetites/20211202-kezilabda-noi-vilagbajnoksag-magyarorszag-szlovakia-elo-kozvetites.html'\n",
    "olimpia_link = 'https://www.origo.hu/sport/olimpia/galeria/20210726-gordeszka-latvanyos-kepek.html'\n",
    "\n",
    "# format 1\n",
    "auto_link = 'https://www.origo.hu/auto/20180523-maris-kitiltjak-a-regi-dizelautokat-egy-nemet-varosbol.html'\n",
    "teches_format1 = 'https://www.origo.hu/techbazis/20080321-bittorrentes-rivalist-kap-az-apple-tv.html'\n",
    "# format 2\n",
    "ronaldo_link = 'https://www.origo.hu/sport/futball/20220315-ronaldo-ismet-bizonyithat-kedvenc-ellenfele-ellen-otthon-juthat-tovabb-a-bl-titkos-eselyese.html'\n",
    "\n",
    "# format 3\n",
    "gallery_link = 'https://www.origo.hu/sport/galeria/20220317-a-szexi-luisinha-barosa-oliveira-mclaren-lando-norris-kepek-fotok-galeria.html'\n",
    "\n",
    "\n",
    "root_problem = 'https://www.origo.hu/auto/20150904-telekocsi-migrans-mav-vonat.html'\n",
    "article_center = 'https://www.origo.hu/gazdasag/hirek/20091207-csokkenessel-nyitottak-a-new-yorki-tozsdek.html'\n",
    "torlendo = 'https://www.origo.hu/gazdasag/hirek/20001011torlend1.html'\n",
    "old_format = 'https://www.origo.hu/amerikai-elnokvalasztas-2008/index.html'\n",
    "\n",
    "# ???\n",
    "valasztas2010 = 'https://www.origo.hu/itthon/valasztas2010/20100210-ujabb-feltort-levelszekrenyek-utan-nyomoz-a-rendorseg.html'\n",
    "\n",
    "palyabea = 'https://www.origo.hu/palyabea/post/20100909-elso-proba-a-nagykoncertre.html'\n",
    "root_problem = 'https://www.origo.hu/itthon/onkormanyzati-valasztas-2010/hirek/20100930-polgar-bunpartolassal-vadolja-az-ugyeszseg-az-mszp-s-polgarmestert.html'\n",
    "link_list = [kozvetites_link, olimpia_link, auto_link, teches_format1, ronaldo_link, gallery_link, root_problem, article_center, torlendo, old_format, valasztas2010, palyabea]"
   ]
  },
  {
   "cell_type": "code",
   "execution_count": 3,
   "id": "c3c09edb",
   "metadata": {},
   "outputs": [],
   "source": [
    "def response_warc_record_gen(warc_filename):\n",
    "    archive_base = ArchiveIterator(open(warc_filename, 'rb'))\n",
    "    for rec in archive_base:\n",
    "        if rec.rec_type == 'response':\n",
    "            article_url = rec.rec_headers.get_header('WARC-Target-URI')\n",
    "            raw_html = rec.content_stream().read()\n",
    "            yield article_url, raw_html\n",
    "\n",
    "def response_warc_record_gen(warc_filename):\n",
    "    archive_base = ArchiveIterator(open(warc_filename, 'rb'))\n",
    "    for rec in archive_base:\n",
    "        if rec.rec_type == 'response':\n",
    "            article_url = rec.rec_headers.get_header('WARC-Target-URI')\n",
    "            raw_html = rec.content_stream().read()\n",
    "            yield article_url, raw_html\n",
    "\n",
    "def extract_resp_record_data(resp):\n",
    "    \"\"\"Extract response date, WARC ID and raw HTML from a WARC response record\"\"\"\n",
    "    warc_response_date = resp.rec_headers.get_header('WARC-Date')\n",
    "    if '.' in warc_response_date:\n",
    "        date_format = '%Y-%m-%dT%H:%M:%S.%fZ'\n",
    "    else:\n",
    "        date_format = '%Y-%m-%dT%H:%M:%SZ'\n",
    "    warc_response_datetime = datetime.strptime(warc_response_date, date_format)\n",
    "    warc_id = resp.rec_headers.get_header('WARC-Record-ID')\n",
    "    raw_html = resp.content_stream().read().decode(resp.rec_headers.get_header('WARC-X-Detected-Encoding'))\n",
    "\n",
    "    return warc_response_datetime, warc_id, raw_html\n",
    "\n",
    "def from_request(link):\n",
    "    txt = requests.get(link).text\n",
    "    soup = BeautifulSoup(txt, 'lxml')\n",
    "    return soup\n",
    "\n",
    "def from_warc(warc, link):\n",
    "    _, _, resp = warc.get_records(link)\n",
    "    warc_response_datetime, warc_id, raw_html = extract_resp_record_data(resp)\n",
    "    soup = BeautifulSoup(raw_html, 'html.parser')\n",
    "    return soup\n"
   ]
  },
  {
   "cell_type": "markdown",
   "id": "0ef76ac3",
   "metadata": {},
   "source": [
    "Keywords finding code"
   ]
  },
  {
   "cell_type": "code",
   "execution_count": 47,
   "id": "5cdbf193",
   "metadata": {},
   "outputs": [
    {
     "data": {
      "text/plain": [
       "['labdarúgás',\n",
       " 'sportműsor',\n",
       " 'Manchester United FC',\n",
       " 'Ajax',\n",
       " 'Benfica',\n",
       " 'Atlético Madrid',\n",
       " 'Bajnokok Ligája']"
      ]
     },
     "execution_count": 47,
     "metadata": {},
     "output_type": "execute_result"
    }
   ],
   "source": [
    "keywords_script = [a for a in from_request(ronaldo_link).find_all('script') if 'window.exclusionTags' in a.text][0].text\n",
    "i1 = keywords_script.find('[')\n",
    "i2 = keywords_script.find(']')\n",
    "keywords_script[i1+1:i2].replace(\"'\", '').split(',')"
   ]
  },
  {
   "cell_type": "markdown",
   "id": "0dd65b93",
   "metadata": {},
   "source": [
    "ARCHIVE TESTING "
   ]
  },
  {
   "cell_type": "code",
   "execution_count": 6,
   "id": "c1dc70c3",
   "metadata": {},
   "outputs": [
    {
     "name": "stderr",
     "output_type": "stream",
     "text": [
      "2022-07-26 11:24:31,073 INFO: Creating index for ../../warcs_dir/origo-articles_new9.warc.gz...\n"
     ]
    }
   ],
   "source": [
    "warc_filename = '../../warcs_dir/origo-articles_new9.warc.gz'\n",
    "warc = WarcCachingDownloader(warc_filename, None, logger, just_cache=True, download_params={'stay_offline': True})"
   ]
  },
  {
   "cell_type": "code",
   "execution_count": 10,
   "id": "b03d4480",
   "metadata": {},
   "outputs": [],
   "source": [
    "test_url='https://www.origo.hu/itthon/20100118-gaz-es-villanyorak-atallitasaval-gyanusitanak-negy-embert-heves-megyeben.html'"
   ]
  },
  {
   "cell_type": "code",
   "execution_count": 25,
   "id": "d7d7a836",
   "metadata": {},
   "outputs": [],
   "source": [
    "ARTICLE_ROOT_PARAMS_SPEC = [(('div',),{'class': 'col-xl-8'}),\n",
    "                            (('div',), {'class': 'swiper-wrapper'}),\n",
    "                            (('article',), {'id': 'article-center'}),\n",
    "                            (('article',), {'id': 'article-text'}),\n",
    "                            (('div',), {'id': 'cikk'}),\n",
    "                            (('div',), {'class': 'article_text'}),\n",
    "                            (('div',), {'id': 'article-text'}),\n",
    "                            (('div',), {'id': {'kenyer-szov'}})\n",
    "                           #(('div',), {'class': 'o-section-main'})\n",
    "                           ]"
   ]
  },
  {
   "cell_type": "markdown",
   "id": "75db7679",
   "metadata": {},
   "source": [
    "Link testing"
   ]
  },
  {
   "cell_type": "code",
   "execution_count": 23,
   "id": "26641660",
   "metadata": {},
   "outputs": [
    {
     "name": "stderr",
     "output_type": "stream",
     "text": [
      "2022-04-12 23:58:33,041 INFO: Creating index for ../../warcs_dir/origo_root_problems.warc.gz...\n",
      "2022-04-12 23:58:33,047 INFO: Index successfully created.\n"
     ]
    }
   ],
   "source": [
    "\n",
    "warc_filename = '../../warcs_dir/origo_root_problems.warc.gz'\n",
    "w = WarcCachingDownloader(warc_filename, None, logger, just_cache=True, download_params={'stay_offline': True})"
   ]
  },
  {
   "cell_type": "code",
   "execution_count": 42,
   "id": "227cf085",
   "metadata": {},
   "outputs": [
    {
     "name": "stdout",
     "output_type": "stream",
     "text": [
      "https://www.origo.hu/itthon/valasztas2010/kampanynaplo/20100129-kilep-az-mdfbol-a-mosonmagyarovari-polgarmester.html\n"
     ]
    }
   ],
   "source": [
    "print(list(w.url_index)[3])\n",
    "for f in ARTICLE_ROOT_PARAMS_SPEC:\n",
    "    if from_warc(w, list(w.url_index)[0]).find(f[0], f[1]) is not None:\n",
    "        print(f)"
   ]
  },
  {
   "cell_type": "code",
   "execution_count": 36,
   "id": "0f8236ad",
   "metadata": {},
   "outputs": [
    {
     "data": {
      "text/plain": [
       "[<p>2022.02.25. <span>péntek</span></p>]"
      ]
     },
     "execution_count": 36,
     "metadata": {},
     "output_type": "execute_result"
    }
   ],
   "source": [
    "from_warc(w, list(w.url_index)[1]).find_all('p')"
   ]
  },
  {
   "cell_type": "code",
   "execution_count": 43,
   "id": "4c1824a8",
   "metadata": {},
   "outputs": [],
   "source": [
    "with open('20100129-kilep-az-mdfbol-a-mosonmagyarovari-polgarmester.html', 'w') as htmlfile:\n",
    "    htmlfile.write(str(from_warc(w, list(w.url_index)[3])))"
   ]
  },
  {
   "cell_type": "code",
   "execution_count": 10,
   "id": "3304a108",
   "metadata": {},
   "outputs": [
    {
     "name": "stderr",
     "output_type": "stream",
     "text": [
      "2022-04-12 12:52:20,989 INFO: Creating index for ../../warcs_dir/origo-articles_new5.warc.gz...\n",
      "2022-04-12 12:58:17,016 INFO: Index successfully created.\n"
     ]
    }
   ],
   "source": [
    "\n",
    "warc_filename = '../../warcs_dir/origo-articles_new5.warc.gz'\n",
    "w = WarcCachingDownloader(warc_filename, None, logger, just_cache=True, download_params={'stay_offline': True})"
   ]
  },
  {
   "cell_type": "code",
   "execution_count": 6,
   "id": "d3dd8fa1",
   "metadata": {},
   "outputs": [],
   "source": [
    "# Unique link list\n",
    "uniques = set([u.split('/')[3] for u in w.url_index])\n",
    "unique_dict = {u:None for u in uniques}\n",
    "for l in w.url_index:\n",
    "    if unique_dict[l.split('/')[3]] == None:\n",
    "        unique_dict[l.split('/')[3]] = l"
   ]
  },
  {
   "cell_type": "code",
   "execution_count": 17,
   "id": "2712dbf6",
   "metadata": {},
   "outputs": [
    {
     "data": {
      "text/plain": [
       "{'uzletinegyed': 'https://www.origo.hu/uzletinegyed/hirdetes/kavosz/20091218-akik-sikert-kovacsoltak-a-szechenyi-kartyabol.html',\n",
       " 'gazdasag': 'https://www.origo.hu/gazdasag/hirek/20090908-mariann-fischer-boel-eu-fobiztos-szamara-irt-levelet-a.html',\n",
       " 'nagyvilag': 'https://www.origo.hu/nagyvilag/20190328-hatosagi-felugyelet-ala-helyezhettek-romaniaban-laura-corduta-kovesit.html',\n",
       " 'techbazis': 'https://www.origo.hu/techbazis/20180828-harom-uj-iphone-erkezik.html',\n",
       " 'jog': 'https://www.origo.hu/jog/20090324-mi-a-teendo-katyukar-eseten.html',\n",
       " 'idojaras': 'https://www.origo.hu/idojaras/20130226-elaztatja-az-eso-a-nyugatdunantult-vas-zala-20-millimeter-eso.html',\n",
       " 'teve': 'https://www.origo.hu/teve/19981211mk.html',\n",
       " 'palyabea': 'https://www.origo.hu/palyabea/post/20110103-szabad-asszociacio-egy-keprol.html',\n",
       " 'tudomany': 'https://www.origo.hu/tudomany/20171020-szaz-eve-kezdodott-a-caporettoi-attores.html',\n",
       " 'filmklub': 'https://www.origo.hu/filmklub/20041217megszuletett.html',\n",
       " 'itthon': 'https://www.origo.hu/itthon/percrolpercre/20171023-orban-viktor-beszedet-eloben-kozvetitjuk.html',\n",
       " 'tafelspicc': 'https://www.origo.hu/tafelspicc/20130719-szabadtuzon-barmit-a-bogracs-halaszle-gulyas-lebbencs-slambuc-ust.html',\n",
       " 'auto': 'https://www.origo.hu/auto/20050421digitalis1.html',\n",
       " 'nepszavazas-2008': 'https://www.origo.hu/nepszavazas-2008/blog/20080304-nepszavazasi-ertesitoket-egetett-el-egy-postas.html',\n",
       " 'amerikai-elnokvalasztas-2008': 'https://www.origo.hu/amerikai-elnokvalasztas-2008/blog/kampany/20080213-hajszalnyi-elonye-van-hillary-clintonnak-es-barack-obama-elott-az.html',\n",
       " 'sport': 'https://www.origo.hu/sport/laza/20200803-sportkozvetites-sportmusor.html',\n",
       " 'programajanlo': 'https://www.origo.hu/programajanlo/blog/20080214-csajbuli-kilenceves-a-bladerunnaz.html'}"
      ]
     },
     "execution_count": 17,
     "metadata": {},
     "output_type": "execute_result"
    }
   ],
   "source": [
    "del unique_dict['archivum']\n",
    "unique_dict"
   ]
  },
  {
   "cell_type": "code",
   "execution_count": 15,
   "id": "b5e303b0",
   "metadata": {},
   "outputs": [
    {
     "data": {
      "text/plain": [
       "'https://www.origo.hu/itthon/onkormanyzati-valasztas-2010/hirek/20100930-polgar-bunpartolassal-vadolja-az-ugyeszseg-az-mszp-s-polgarmestert.html'"
      ]
     },
     "execution_count": 15,
     "metadata": {},
     "output_type": "execute_result"
    }
   ],
   "source": [
    "[u for u in w.url_index if 'bunpartolassal-vadolja' in u][0]"
   ]
  },
  {
   "cell_type": "code",
   "execution_count": 16,
   "id": "cd7d8d16",
   "metadata": {},
   "outputs": [
    {
     "data": {
      "text/plain": [
       "'www.origo.hu/itthon/onkormanyzati-valasztas-2010/hirek/20100930-polgar-bunpartolassal-vadolja-az-ugyeszseg-az-mszp-s-polgarmestert.html'"
      ]
     },
     "execution_count": 16,
     "metadata": {},
     "output_type": "execute_result"
    }
   ],
   "source": [
    "root_problem"
   ]
  },
  {
   "cell_type": "code",
   "execution_count": 18,
   "id": "c6a6f78d",
   "metadata": {},
   "outputs": [
    {
     "data": {
      "text/plain": [
       "defaultdict(<function html2tei.tei_utils.tei_defaultdict.<locals>.<lambda>()>,\n",
       "            {'sch:url': 'https://www.origo.hu/itthon/onkormanyzati-valasztas-2010/hirek/20100930-polgar-bunpartolassal-vadolja-az-ugyeszseg-az-mszp-s-polgarmestert.html',\n",
       "             'sch:name': 'Bűnpártolással vádol az ügyészség egy MSZP-s polgármestert',\n",
       "             'sch:source': ['MTI'],\n",
       "             'sch:datePublished': datetime.datetime(2010, 9, 30, 19, 24),\n",
       "             'sch:dateModified': datetime.datetime(2010, 9, 30, 0, 0),\n",
       "             'sch:keywords': ['hírek', 'önkormányzati választás 2010'],\n",
       "             'sch:articleSection': 'Itthon'})"
      ]
     },
     "execution_count": 18,
     "metadata": {},
     "output_type": "execute_result"
    }
   ],
   "source": [
    "get_meta(logger, root_problem, from_warc(w, root_problem))"
   ]
  },
  {
   "cell_type": "code",
   "execution_count": 63,
   "id": "49125a41",
   "metadata": {},
   "outputs": [
    {
     "name": "stdout",
     "output_type": "stream",
     "text": [
      "defaultdict(<function tei_defaultdict.<locals>.<lambda> at 0x7fc75a09d700>, {'sch:url': 'https://www.origo.hu/uzletinegyed/hirdetes/kavosz/20091218-akik-sikert-kovacsoltak-a-szechenyi-kartyabol.html', 'sch:name': 'Akik sikert kovácsoltak a Széchenyi kártyából', 'sch:authors': ['-'], 'sch:datePublished': datetime.datetime(2009, 12, 18, 8, 48), 'sch:dateModified': datetime.datetime(2009, 12, 18, 0, 0), 'sch:keywords': ['hirdetés'], 'sch:articleSection': 'Üzletinegyed'})\n",
      "defaultdict(<function tei_defaultdict.<locals>.<lambda> at 0x7fc75a06ca60>, {'sch:url': 'https://www.origo.hu/gazdasag/hirek/20090908-mariann-fischer-boel-eu-fobiztos-szamara-irt-levelet-a.html', 'sch:name': 'Az EU-főbiztoshoz fordult a Magyar Agrárkamara', 'sch:source': ['MTI'], 'sch:datePublished': datetime.datetime(2009, 9, 8, 20, 10), 'sch:dateModified': datetime.datetime(2009, 9, 8, 0, 0), 'sch:keywords': ['agrárium', 'Magyar Agrárkamara', 'Mariann Fischer Boel', 'Európai Unió', 'hírek', 'agrárárak', 'EU', 'gabona'], 'sch:articleSection': 'Gazdaság'})\n",
      "defaultdict(<function tei_defaultdict.<locals>.<lambda> at 0x7fc75a253d30>, {'sch:url': 'https://www.origo.hu/nagyvilag/20190328-hatosagi-felugyelet-ala-helyezhettek-romaniaban-laura-corduta-kovesit.html', 'sch:name': 'Meggyanúsították és hatósági felügyelet alá helyezték Codruta Kövesit Romániában', 'sch:source': ['MTI'], 'sch:datePublished': datetime.datetime(2019, 3, 28, 21, 22), 'sch:dateModified': datetime.datetime(2019, 3, 29, 0, 0), 'sch:keywords': [' Bukarest', 'Bukarest', 'Laura Codruta Kövesi', 'Románia', ' Románia', 'Nagyvilág'], 'sch:articleSection': 'Nagyvilág'})\n",
      "defaultdict(<function tei_defaultdict.<locals>.<lambda> at 0x7fc75a138ca0>, {'sch:url': 'https://www.origo.hu/techbazis/20180828-harom-uj-iphone-erkezik.html', 'sch:name': 'Mindent kiteregettek az új iPhone-okról', 'sch:author': ['Origo'], 'sch:datePublished': datetime.datetime(2018, 8, 28, 19, 54), 'sch:dateModified': datetime.datetime(2018, 8, 28, 0, 0), 'sch:keywords': [' iOS', 'Apple', ' okostelefon', ' Apple', 'iOS', 'iPhone', 'Tech', 'okostelefon'], 'sch:articleSection': 'Tech'})\n",
      "defaultdict(<function tei_defaultdict.<locals>.<lambda> at 0x7fc75ae32af0>, {'sch:url': 'https://www.origo.hu/jog/20090324-mi-a-teendo-katyukar-eseten.html', 'sch:name': 'Félreáll, fotóz, tanút keres, bejelent', 'sch:author': ['[origo]'], 'sch:datePublished': datetime.datetime(2009, 4, 6, 10, 29), 'sch:dateModified': datetime.datetime(2009, 4, 6, 0, 0), 'sch:keywords': ['jogi eljárás', ' Magyar Közút Kht.', 'jog', 'Magyar Közút Kht.', ' Magyar Autóklub', 'Magyar Autóklub', ' jog', 'Jog'], 'sch:articleSection': 'Jog'})\n",
      "defaultdict(<function tei_defaultdict.<locals>.<lambda> at 0x7fc75ae32e50>, {'sch:url': 'https://www.origo.hu/idojaras/20130226-elaztatja-az-eso-a-nyugatdunantult-vas-zala-20-millimeter-eso.html', 'sch:name': 'Eláztatja az eső a Nyugat-Dunántúlt', 'sch:author': ['[origo]'], 'sch:datePublished': datetime.datetime(2013, 2, 26, 9, 0), 'sch:dateModified': datetime.datetime(2013, 2, 26, 0, 0), 'sch:keywords': [' Zala megye', ' Vas megye', 'Zala megye', 'csapadék', 'melegfront', ' melegfront', ' mediterrán ciklon', 'Vas megye', 'mediterrán ciklon'], 'sch:articleSection': 'Időjárás'})\n",
      "defaultdict(<function tei_defaultdict.<locals>.<lambda> at 0x7fc75ae32700>, {'sch:url': 'https://www.origo.hu/teve/19981211mk.html', 'sch:name': 'Mortal Kombat', 'sch:author': ['[origo]'], 'sch:keywords': ['', 'Tévé'], 'sch:articleSection': 'Tévé'})\n",
      "2011. január. 3.\n",
      "defaultdict(<function tei_defaultdict.<locals>.<lambda> at 0x7fc75ae32790>, {'sch:url': 'https://www.origo.hu/palyabea/post/20110103-szabad-asszociacio-egy-keprol.html', 'sch:name': 'Szabad asszociáció', 'sch:datePublished': datetime.datetime(2011, 1, 3, 0, 0), 'sch:keywords': ['néni', 'Palya Bea', 'post', 'kép', 'asszociáció', 'Budapest'], 'sch:articleSection': 'Palya Bea'})\n"
     ]
    },
    {
     "name": "stderr",
     "output_type": "stream",
     "text": [
      "2022-04-12 10:58:52,690 WARNING: https://www.origo.hu/nepszavazas-2008/blog/20080304-nepszavazasi-ertesitoket-egetett-el-egy-postas.html ARTICLE NAME NOT FOUND!\n",
      "2022-04-12 10:58:52,690 WARNING: https://www.origo.hu/nepszavazas-2008/blog/20080304-nepszavazasi-ertesitoket-egetett-el-egy-postas.html ARTICLE NAME NOT FOUND!\n",
      "2022-04-12 10:58:52,692 WARNING: https://www.origo.hu/nepszavazas-2008/blog/20080304-nepszavazasi-ertesitoket-egetett-el-egy-postas.html FAILED TO FIND PUBLICATION DATE TAG!\n",
      "2022-04-12 10:58:52,692 WARNING: https://www.origo.hu/nepszavazas-2008/blog/20080304-nepszavazasi-ertesitoket-egetett-el-egy-postas.html FAILED TO FIND PUBLICATION DATE TAG!\n"
     ]
    },
    {
     "name": "stdout",
     "output_type": "stream",
     "text": [
      "defaultdict(<function tei_defaultdict.<locals>.<lambda> at 0x7fc75ae328b0>, {'sch:url': 'https://www.origo.hu/tudomany/20171020-szaz-eve-kezdodott-a-caporettoi-attores.html', 'sch:name': 'Rengeteg magyar adta életét egy haszontalan győzelemért', 'sch:author': ['Origo'], 'sch:datePublished': datetime.datetime(2017, 10, 20, 17, 8), 'sch:dateModified': datetime.datetime(2017, 10, 20, 0, 0), 'sch:keywords': [' évforduló', ' áttörés', 'történelem', 'évforduló', 'I. világháború', 'Olaszország', ' I. világháború', ' Isonzo-folyó', 'áttörés', 'Osztrák-Magyar Monarchia', 'Isonzo-folyó', ' Osztrák-Magyar Monarchia', 'Tudomány', ' történelem', 'világháború', ' Olaszország'], 'sch:articleSection': 'Tudomány'})\n",
      "defaultdict(<function tei_defaultdict.<locals>.<lambda> at 0x7fc75a1dc310>, {'sch:url': 'https://www.origo.hu/filmklub/20041217megszuletett.html', 'sch:name': 'Megszületett Gollam diagnózisa', 'sch:author': ['[origo]'], 'sch:datePublished': datetime.datetime(2004, 12, 17, 15, 51), 'sch:dateModified': datetime.datetime(2004, 12, 22, 0, 0), 'sch:keywords': [' Gollam', 'Film', 'Gollam', 'A Gyűrűk Ura'], 'sch:articleSection': 'Film'})\n",
      "defaultdict(<function tei_defaultdict.<locals>.<lambda> at 0x7fc75a1dc820>, {'sch:url': 'https://www.origo.hu/itthon/percrolpercre/20171023-orban-viktor-beszedet-eloben-kozvetitjuk.html', 'sch:name': 'A szabadságharcra emlékezik Orbán Viktor', 'sch:author': ['Kovács András'], 'sch:datePublished': datetime.datetime(2017, 10, 23, 15, 19), 'sch:dateModified': datetime.datetime(2017, 10, 23, 0, 0), 'sch:keywords': ['Terror Háza', 'percrőlpercre', ' Fidesz-KDNP', '1956-os forradalom', ' Orbán Viktor', 'Fidesz-KDNP', 'Itthon', ' Terror Háza', 'Orbán Viktor'], 'sch:articleSection': 'Itthon'})\n",
      "defaultdict(<function tei_defaultdict.<locals>.<lambda> at 0x7fc75a1dc550>, {'sch:url': 'https://www.origo.hu/tafelspicc/20130719-szabadtuzon-barmit-a-bogracs-halaszle-gulyas-lebbencs-slambuc-ust.html', 'sch:name': 'Milyen bográcsban mi készül?', 'sch:author': ['Táfelspicc'], 'sch:datePublished': datetime.datetime(2013, 7, 22, 7, 59), 'sch:dateModified': datetime.datetime(2013, 7, 25, 0, 0), 'sch:keywords': ['halászlé', 'bogrács', 'gulyás', ' bográcsozás', ' bogrács', ' gulyás', 'slambuc', ' slambuc', ' bajai halászlé', 'bográcsozás', ' lebbencs', 'Táfelspicc', 'bajai halászlé', 'lebbencs'], 'sch:articleSection': 'Táfelspicc'})\n",
      "defaultdict(<function tei_defaultdict.<locals>.<lambda> at 0x7fc75ae32c10>, {'sch:url': 'https://www.origo.hu/auto/20050421digitalis1.html', 'sch:name': 'Digitális kamerával a gyorshajtók ellen', 'sch:source': ['MTI'], 'sch:datePublished': datetime.datetime(2005, 4, 21, 12, 33), 'sch:dateModified': datetime.datetime(2005, 4, 21, 0, 0), 'sch:keywords': ['közlekedésbiztonság', ' kamera', ' közlekedésbiztonság', 'Autó', 'kamera', 'rendőrség'], 'sch:articleSection': 'Autó'})\n",
      "defaultdict(<function tei_defaultdict.<locals>.<lambda> at 0x7fc75a138d30>, {'sch:url': 'https://www.origo.hu/nepszavazas-2008/blog/20080304-nepszavazasi-ertesitoket-egetett-el-egy-postas.html', 'sch:name': None, 'sch:keywords': ['blog'], 'sch:articleSection': 'népszavazás 2008'})\n",
      "defaultdict(<function tei_defaultdict.<locals>.<lambda> at 0x7fc75a06c430>, {'sch:url': 'https://www.origo.hu/amerikai-elnokvalasztas-2008/blog/kampany/20080213-hajszalnyi-elonye-van-hillary-clintonnak-es-barack-obama-elott-az.html', 'sch:name': None, 'sch:keywords': ['blog'], 'sch:articleSection': 'amerikai elnökválasztás 2008'})\n",
      "defaultdict(<function tei_defaultdict.<locals>.<lambda> at 0x7fc75ae32790>, {'sch:url': 'https://www.origo.hu/sport/laza/20200803-sportkozvetites-sportmusor.html', 'sch:name': 'Fókuszban az amerikai sportok hétfő este', 'sch:source': ['MTI'], 'sch:datePublished': datetime.datetime(2020, 8, 3, 8, 23), 'sch:dateModified': datetime.datetime(2020, 8, 3, 0, 0), 'sch:keywords': ['sportműsor', 'laza', 'sportközvetítés'], 'sch:articleSection': 'Sport'})\n",
      "defaultdict(<function tei_defaultdict.<locals>.<lambda> at 0x7fc75a138d30>, {'sch:url': 'https://www.origo.hu/programajanlo/blog/20080214-csajbuli-kilenceves-a-bladerunnaz.html', 'sch:name': 'Csajbuli! - kilencéves a Bladerunnaz', 'sch:author': ['Dömötör Ági'], 'sch:datePublished': datetime.datetime(2008, 2, 14, 17, 34), 'sch:dateModified': datetime.datetime(2008, 2, 14, 0, 0), 'sch:keywords': [' Bladerunnaz', 'buli', 'Bladerunnaz', 'Kultúra', 'blog'], 'sch:articleSection': 'Kultúra'})\n"
     ]
    }
   ],
   "source": [
    "for v in unique_dict.values():\n",
    "    print(get_meta(logger, v, from_warc(w, v)))"
   ]
  },
  {
   "cell_type": "code",
   "execution_count": 20,
   "id": "6db1ac05",
   "metadata": {},
   "outputs": [
    {
     "data": {
      "text/plain": [
       "<div id=\"cikk\">\n",
       "<!-- eTarget ContextAd Start -->\n",
       "<script type=\"text/javascript\">\n",
       "     // <![CDATA[\n",
       "       var sysuri = \"/itthon/valasztas2010/felmeresek/20100210-nezopont-intezet-orbanhoz-vandorolnak-gyurcsany-szimpatizansai.html\"\n",
       "       var logoText = \"\"\n",
       "       var logoLink = \"\"\n",
       "       var logoImg = \"none\"\n",
       "     // ]]>\n",
       "     </script><script type=\"text/javascript\">\n",
       "\t\t// <![CDATA[\n",
       "\t\t\tfunction SendToFriend() {\n",
       "\t\t\t\tvar MyTemp;\n",
       "\t\t\t\tvar MySysuri;\n",
       "\t\t\t\t\n",
       "\t\t\t\tif (location.href.indexOf('http://origo.hu/') > -1 || location.href.indexOf('http://www.origo.hu/') > -1) {\n",
       "\t\t\t\t\tMySysuri = sysuri;\n",
       "\t\t\t\t\tMyTemp = sysuri.substr(1, sysuri.indexOf('/', 1) - 1);\n",
       "\t\t\t\t} else {\n",
       "\t\t\t\t\tMySysuri = location.href;\n",
       "\t\t\t\t\tif (location.href.indexOf('http://www.klikkbank.hu/') > -1) {\n",
       "\t\t\t\t\t} else {\n",
       "\t\t\t\t\t\tif (MySysuri.indexOf('www.') > -1){\n",
       "\t\t\t\t\t\t\tMySysuri = MySysuri.replace(/www./g, '')\n",
       "\t\t\t\t\t\t}\n",
       "\t\t\t\t\t}\n",
       "\t\t\t\t\tMyTemp = MySysuri.substring(7, MySysuri.indexOf('.'));\n",
       "\t\t\t\t\tif (MySysuri.indexOf('klikkbank') > -1) {\n",
       "\t\t\t\t\t\tMyTemp = 'base';\n",
       "\t\t\t\t\t}\n",
       "\t\t\t\t\t//MyTemp = location.href.substring(7, location.href.indexOf('.'), 7);\n",
       "\t\t\t\t}\n",
       "\t\t\t\topen_doc('http://origo.hu/kuldjetovabb/index.html?.actionId=app.ajanlo.action.AjanloAction&sysuri=' + MySysuri + '&title='+ tit +'&temp=' + MyTemp, 365, 430);\n",
       "\t\t\t}\n",
       "\t\t// ]]>\n",
       "\t\t</script><div class=\"article_content\">\n",
       "<div class=\"article_head\">\n",
       "<h1>Nézőpont Intézet: Orbánhoz vándorolnak Gyurcsány szimpatizánsai</h1><span class=\"kommentek_szama\" id=\"kommentek_szama\"></span></div>\n",
       "</div>\n",
       "<div class=\"clear\"></div>\n",
       "<div id=\"cikk_fejlec\"><span class=\"author\"><a class=\"cikk-szerzo\" href=\"https://www.origo.hu/irjon/index.html\">MTI</a></span> | <span class=\"create_date\">Létrehozás dátuma: 2010. 02. 10., 23:23</span><div class=\"eszkozok\"><span class=\"eszkozok-szov\">eszközök:</span><span id=\"nn\" onmouseout=\"eszkozok ('eszközök:');\" onmouseover=\"eszkozok ('nagyobb betű:');\"><a class=\"betu-nov\" href=\"javascript:novel();\" title=\"betű méret növelése\"></a></span><span id=\"cs\" onmouseout=\"eszkozok ('eszközök:');\" onmouseover=\"eszkozok ('kisebb betű:');\"><a class=\"betu-csok\" href=\"javascript:csokkent();\" title=\"betű méret csökkentése\"></a></span><a class=\"tovabbkuld\" href=\"javascript:SendToFriend();\" onmouseout=\"eszkozok ('eszközök:');\" onmouseover=\"eszkozok ('küldje tovább:');\" title=\"küldje tovább ismerősének\"></a><a class=\"nyomtat\" href=\"/print/itthon/valasztas2010/felmeresek/20100210-nezopont-intezet-orbanhoz-vandorolnak-gyurcsany-szimpatizansai.html\" onmouseout=\"eszkozok ('eszközök:');\" onmouseover=\"eszkozok ('nyomtatható verzió:');\" rel=\"nofollow\" title=\"nyomtatható verzió\"></a></div><script src=\"/images/kozos/font-size.js\" type=\"text/javascript\"></script><div class=\"archiv-cikk-box\" id=\"archiv-cikk-box\" style=\"display:none\"></div><script type=\"text/javascript\">\n",
       "\t\t\t// <![CDATA[\n",
       "\t\t\t\t\n",
       "\t\t\t\tvar strModDate = '2010. 02. 10., 23:25';\n",
       "\t\t\t\tif (strModDate.substr(16,1) == ':') strModDate = strModDate.substr(0,15) + '0' + strModDate.substr(15,strModDate.length);\n",
       "\t\t\t\tvar strNowDate = '2022. 04. 12., 13:09';\n",
       "\t\t\t\t\n",
       "\t\t\t\tvar diffYears;\n",
       "\t\t\t\t//var diffMonths;\n",
       "\t\t\t\tvar diffDays;\n",
       "\t\t\t\t\n",
       "\t\t\t\tfunction dateDiff() {\n",
       "\t\t\t\t\tdate1 = new Date();\n",
       "\t\t\t\t\tdate2 = new Date();\n",
       "\t\t\t\t\tdiff  = new Date();\n",
       "\t\t\t\t\t\n",
       "\t\t\t\t\tdate1temp = new Date(strModDate.substr(0,4),(strModDate.substr(6,2) - 1).toString(),strModDate.substr(10,2),strModDate.substr(15,2),strModDate.substr(18,2),00);\n",
       "\t\t\t\t\tdate1.setTime(date1temp.getTime());\n",
       "\t\t\t\t\t\n",
       "\t\t\t\t\tdate2temp = new Date(strNowDate.substr(0,4),(strNowDate.substr(6,2) - 1).toString(),strNowDate.substr(10,2),strNowDate.substr(15,2),strNowDate.substr(18,2),00);\n",
       "\t\t\t\t\tdate2.setTime(date2temp.getTime());\n",
       "\t\t\t\t\t\n",
       "\t\t\t\t\t// sets difference date to difference of first date and second date\n",
       "\t\t\t\t\t\n",
       "\t\t\t\t\tdiff.setTime(Math.abs(date1.getTime() - date2.getTime()));\n",
       "\t\t\t\t\t\n",
       "\t\t\t\t\ttimediff = diff.getTime();\n",
       "\t\t\t\t\t\n",
       "\t\t\t\t\tweeks = Math.floor(timediff / (1000 * 60 * 60 * 24 * 7));\n",
       "\t\t\t\t\ttimediff -= weeks * (1000 * 60 * 60 * 24 * 7);\n",
       "\t\t\t\t\t\n",
       "\t\t\t\t\tdays = Math.floor(timediff / (1000 * 60 * 60 * 24)); \n",
       "\t\t\t\t\ttimediff -= days * (1000 * 60 * 60 * 24);\n",
       "\t\t\t\t\t\n",
       "\t\t\t\t\thours = Math.floor(timediff / (1000 * 60 * 60)); \n",
       "\t\t\t\t\ttimediff -= hours * (1000 * 60 * 60);\n",
       "\t\t\t\t\t\n",
       "\t\t\t\t\tmins = Math.floor(timediff / (1000 * 60)); \n",
       "\t\t\t\t\ttimediff -= mins * (1000 * 60);\n",
       "\t\t\t\t\t\n",
       "\t\t\t\t\tsecs = Math.floor(timediff / 1000); \n",
       "\t\t\t\t\ttimediff -= secs * 1000;\n",
       "\t\t\t\t\t\n",
       "\t\t\t\t\t//alert (weeks + \" weeks, \" + days + \" days, \" + hours + \" hours, \" + mins + \" minutes, and \" + secs + \" seconds\");\n",
       "\t\t\t\t\tdiffDays = days + (weeks * 7);\n",
       "\t\t\t\t\t\n",
       "\t\t\t\t\treturn false; // form should never submit, returns false\n",
       "\t\t\t\t}\n",
       "\t\t\t\t\n",
       "\t\t\t\tfunction serviceLength() {  \n",
       "\t\t\t\t  var modDate = new Date(strModDate.substr(0,4),(strModDate.substr(6,2) - 1).toString(),strModDate.substr(10,2),strModDate.substr(15,2),strModDate.substr(18,2),00);\n",
       "\t\t\t    var nowDate = new Date(strNowDate.substr(0,4),(strNowDate.substr(6,2) - 1).toString(),strNowDate.substr(10,2),strNowDate.substr(15,2),strNowDate.substr(18,2),00);\n",
       "\t\t\t    var difference = (nowDate-modDate);\n",
       "\t\t\t    \n",
       "\t\t\t    diffYears = Math.floor(difference / (1000*60*60*24*365));\n",
       "\t\t\t    /*\n",
       "\t\t\t    difference -= years * (1000*60*60*24*365); \n",
       "\t\t\t    diffMonths = Math.floor(difference / (1000*60*60*24*30.4375));\n",
       "\t\t\t    */\n",
       "\t\t\t  }\n",
       "\t\t\t  \n",
       "\t\t\t  function getDifference() {\n",
       "\t\t\t  \tserviceLength();\n",
       "\t\t\t  \tif (diffYears == 0) {\n",
       "\t\t\t  \t\tdateDiff();\n",
       "\t\t\t  \t\tif (diffDays > 90) {\n",
       "\t\t\t  \t\t\tdocument.getElementById('archiv-cikk-box').style.display = 'block';\n",
       "\t\t\t  \t\t\tdocument.getElementById('archiv-cikk-box').innerHTML = 'Ez a cikk ' + diffDays.toString() + ' napja frissült utoljára. A benne szereplő információk a megjelenés idején pontosak voltak, de mára elavultak lehetnek.';\n",
       "\t\t\t  \t\t}\n",
       "\t\t\t  \t} else if (diffYears > 0) {\n",
       "\t\t\t  \t\tdocument.getElementById('archiv-cikk-box').style.display = 'block';\n",
       "\t\t\t  \t\tdocument.getElementById('archiv-cikk-box').innerHTML = 'Ez a cikk ' + diffYears.toString() + ' éve frissült utoljára. A benne szereplő információk a megjelenés idején pontosak voltak, de mára elavultak lehetnek.';\n",
       "\t\t\t  \t}\n",
       "\t\t\t  }\n",
       "\t\t\t  \n",
       "\t\t\t  getDifference();\n",
       "\t\t\t  \n",
       "\t\t\t  // ]]>\n",
       "\t\t\t</script><div id=\"cimke-input\"></div><script type=\"text/javascript\">getCikkCimkek()</script></div>\n",
       "<div class=\"clear\"></div>\n",
       "<div class=\"article_content\">\n",
       "<div class=\"article_text\">\n",
       "<div id=\"leades\">Gyurcsány Ferenc szimpatizánsainak több mint negyede pártolt át Orbán Viktorhoz 2006 óta - áll a Nézőpont Intézet legfrissebb felmérésében. A közvélemény-kutatás szerint jelenleg az aktív szavazók fele a Fideszre szavazna, míg az MSZP-t csak 11 százalék választaná.</div>\n",
       "<div id=\"kenyer-szov\">\n",
       "<div id=\"multidoboz\">\n",
       "<div class=\"multi-kep\"><img alt=\"Forrás: MTI\" border=\"0\" height=\"277\" src=\"//cdn.nwmgroups.hu/s/img/i/0904/20090414gyurcsany30.jpg\" title=\"Forrás: MTI\"/><p>Gyurcsány rajongói szétszéledtek 2006 óta</p>\n",
       "</div>\n",
       "<h3>Ajánlat</h3>\n",
       "<ul>\n",
       "<li><a class=\"bold\" href=\"https://www.origo.hu/itthon/valasztas2010/kampanynaplo/20100210-balsai-istvan-fidesz-ismet-elutasitotta-az-ugyeszseg-a-gyurcsanyos-feljelentest.html\" title=\"Ismét elutasították a Gyurcsány elleni fideszes feljelentést\">Ismét elutasították a Gyurcsány elleni fideszes feljelentést</a></li>\n",
       "<li><a class=\"bold\" href=\"https://www.origo.hu/itthon/valasztas2010/kampanynaplo/20100210-bago-zoltan.html\" title=\"Egy fideszes honlapján Bajnai és Gyurcsány halálára utaltak\">Egy fideszes honlapján Bajnai és Gyurcsány halálára utaltak</a></li>\n",
       "<li><a class=\"bold\" href=\"https://www.origo.hu/itthon/20100208-gyava-orbannal-riogat-gyurcsany-a-blogjaban.html\" title=\"Orbán férfiasságát pedzegeti blogjában Gyurcsány\">Orbán férfiasságát pedzegeti blogjában Gyurcsány</a></li>\n",
       "</ul>\n",
       "<div id=\"okhu_multi\" style=\"display:none;\">\n",
       "<h3 style=\"text-transform: none;\">OK.hu</h3>\n",
       "<form action=\"http://www.ok.hu/clk\" id=\"multi_searchbox\" method=\"GET\" name=\"multi_searchbox\" onsubmit=\"return doOkSearch();\" style=\" display: block;margin: 4px 0 4px 8px; width: 229px; height: 24px; background-image: url(http://origo.hu/images/kozos/ok-multi-bg.gif);\"><input name=\"idx\" type=\"hidden\" value=\"1\"/><input name=\"place\" type=\"hidden\" value=\"ocsb\"/><input name=\"url\" type=\"hidden\" value=\"/katalogus?hol=1\"/><input name=\"mode\" type=\"hidden\" value=\"1\"/><input onclick=\"document.forms['multi_searchbox'].submit();\" src=\"https://www.origo.hu/images/kozos/ok-keresd-multi.gif\" style=\"margin-top: 3px; float: right; margin-right: 4px;\" type=\"image\"/><input id=\"ok_keresd\" name=\"q\" style=\"border: 1px solid white; display: block; float: left; margin-left: 2px; margin-top: 3px; width: 120px;\" type=\"text\"/></form>\n",
       "</div><script type=\"text/javascript\">getMultiCimke()</script></div>\n",
       "<p>A négy éve még Gyurcsány Ferenccel szimpatizáló szavazók 27 százaléka ma Orbán Viktorra, 17-17 százaléka Bokros Lajosra és Mesterházy Attilára, míg 5 százaléka Vona Gáborra szavazna - olvasható a Nézőpont Intézet friss felmérésében, amelyet szerdán hoztak nyilvánosságra. </p>\n",
       "<p>Az intézet szerint Gyurcsány Ferenc volt szocialista miniszterelnökről az összes megkérdezett 40 százaléka még inkább pozitívan vélekedett 2006-ban. Ma a négy évvel ezelőtti Gyurcsány-tábornak csak 22 százaléka MSZP-szimpatizáns, 25 százaléka bizonytalan, 21 százaléka viszont a Fideszhez csatlakozott.</p>\n",
       "<p>A kutatás adatai szerint Orbán Viktorra, a Fidesz miniszterelnök-jelöltjére az évértékelő beszéd után a szavazók 51 százaléka adná a voksát, míg Bokros Lajosra 10, Mesterházy Attilára 8 százaléknyian szavaznának. Vona Gábor, a Jobbik jelöltje 5 százalékot kapna.</p>\n",
       "<p>A pártszimpátia szerint az aktív szavazók 51 százaléka szavazna \"most vasárnap\" a Fideszre, 11 százaléka az MSZP-re és 7 százaléka a Jobbikra. Az MDF-re az aktív szavazók 3 százaléka szavazna - tették hozzá.</p>\n",
       "<p>A kutatást február 6. és 9. között készítették 1000 fő véletlenszerű megkérdezésével.</p>\n",
       "<div id=\"prtnr\"></div><script type=\"text/javascript\">prtnrPerjel ();</script></div>\n",
       "<div id=\"comments\"></div><script type=\"text/javascript\">\n",
       "\t\t// <![CDATA[\n",
       "\t  \tvar MyCikk = sysuri.substr(sysuri.lastIndexOf('/') + 1, sysuri.lastIndexOf('.') - sysuri.lastIndexOf('/') - 1);\n",
       "\t\n",
       "\t\t\tgetCommentNums('comments', MyCikk);\n",
       "\t\t// ]]>\n",
       "\t\t</script></div>\n",
       "</div>\n",
       "<div class=\"lapozas-holder\"></div>\n",
       "<div id=\"valasztasLegfrissebb\"></div>\n",
       "<div class=\"pager\">\n",
       "<div class=\"eszkozok\" id=\"eszkozok-also\"><span class=\"eszkozok-szov\">eszközök:</span><a class=\"tovabbkuld\" href=\"javascript:SendToFriend();\" onmouseout=\"eszkozok ('eszközök:');\" onmouseover=\"eszkozok ('küldje tovább:');\" title=\"küldje tovább ismerősének\"></a><a class=\"nyomtat\" href=\"/print/itthon/valasztas2010/felmeresek/20100210-nezopont-intezet-orbanhoz-vandorolnak-gyurcsany-szimpatizansai.html\" onmouseout=\"eszkozok ('eszközök:');\" onmouseover=\"eszkozok ('nyomtatható verzió:');\" rel=\"nofollow\" title=\"nyomtatható verzió\"></a></div>\n",
       "<div class=\"origo-megosztas2\"><a class=\"megosztas-iwiw\" href=\"http://iwiw.hu/pages/share/share.jsp?u=http://www.origo.hu/itthon/20100210-nezopont-intezet-orbanhoz-vandorolnak-gyurcsany-szimpatizansai.html\"></a><a class=\"megosztas-facebook\" href=\"http://www.facebook.com/share.php?u=http://www.origo.hu/itthon/20100210-nezopont-intezet-orbanhoz-vandorolnak-gyurcsany-szimpatizansai.html\"></a><a class=\"megosztas-tumblr\" href=\"http://www.tumblr.com/share?v=3&amp;u=www.origo.hu/itthon/20100210-nezopont-intezet-orbanhoz-vandorolnak-gyurcsany-szimpatizansai.html&amp;t=N%C3%A9z%C5%91pont Int%C3%A9zet: Orb%C3%A1nhoz v%C3%A1ndorolnak Gyurcs%C3%A1ny szimpatiz%C3%A1nsai\"></a><a class=\"megosztas-twitter\" href=\"http://twitter.com/home?status=http://www.origo.hu/itthon/20100210-nezopont-intezet-orbanhoz-vandorolnak-gyurcsany-szimpatizansai.html\"></a><a class=\"megosztas-megtobb\" onclick=\"clearT(x); share_origo(this);\" onmouseout=\"x= setTimeout('popup_close()', 600);\"></a></div>\n",
       "</div>\n",
       "<div id=\"megosztas-popup\" onmouseout=\"x= setTimeout('popup_close()', 600);\" onmouseover=\"clearT(x);\">\n",
       "<div class=\"megosztas-popup-in\"><span>Megosztás - <a href=\"/techbazis/internet/20091013-tartalommegosztas-az-iwiwen.html\"><b>Mi ez?</b></a><a class=\"megosztas-popup-bezar\" href=\"javascript: popup_close()\"></a></span><div>\n",
       "<ul>\n",
       "<li class=\"share-iwiw-in\"><a href=\"http://iwiw.hu/pages/share/share.jsp?u=http://www.origo.hu/itthon/20100210-nezopont-intezet-orbanhoz-vandorolnak-gyurcsany-szimpatizansai.html\" onclick=\"return iwiwshare_click()\" target=\"_blank\" title=\"iWiW\"></a></li>\n",
       "<li class=\"share-facebook-in\"><a href=\"http://www.facebook.com/share.php?u=http://www.origo.hu/itthon/20100210-nezopont-intezet-orbanhoz-vandorolnak-gyurcsany-szimpatizansai.html\" target=\"_blank\" title=\"Facebook\">Facebook</a></li>\n",
       "<li class=\"share-tumblr-in\"><a href=\"http://www.tumblr.com/share?v=3&amp;u=www.origo.hu/itthon/20100210-nezopont-intezet-orbanhoz-vandorolnak-gyurcsany-szimpatizansai.html&amp;t=N%C3%A9z%C5%91pont Int%C3%A9zet: Orb%C3%A1nhoz v%C3%A1ndorolnak Gyurcs%C3%A1ny szimpatiz%C3%A1nsai\" target=\"_blank\" title=\"Tumblr\">Tumblr</a></li>\n",
       "<li class=\"share-twitter-in\"><a href=\"http://twitter.com/home?status=http://www.origo.hu/itthon/20100210-nezopont-intezet-orbanhoz-vandorolnak-gyurcsany-szimpatizansai.html\" target=\"_blank\" title=\"Twitter\">Twitter</a></li>\n",
       "<li class=\"share-google-in\"><a href=\"javascript:var%20b=document.body;var%20GR________bookmarklet_domain='http://www.google.com';if(b&amp;&amp;!document.xmlVersion){void(z=document.createElement('script'));void(z.src='http://www.google.com/reader/ui/link-bookmarklet.js');void(b.appendChild(z));}else{}\" title=\"Google Reader\">Google</a></li>\n",
       "<li class=\"share-startlap-in\"><a href=\"http://www.startlap.hu/\" onclick=\"window.open('http://www.startlap.hu/sajat_linkek/addlink.php?url='+encodeURIComponent(location.href)+'&amp;title='+encodeURIComponent(document.title));return false;\" target=\"_blank\" title=\"Startlap\">Startlap</a></li>\n",
       "<li class=\"share-myspace-in\"><a href=\"http://www.myspace.com/Modules/PostTo/Pages/?l=3&amp;u=http://www.origo.hu/itthon/20100210-nezopont-intezet-orbanhoz-vandorolnak-gyurcsany-szimpatizansai.html\" target=\"_blank\" title=\"Myspace\">MySpace</a></li>\n",
       "</ul>\n",
       "</div>\n",
       "</div>\n",
       "<div class=\"megosztas-popup-bottom\"></div>\n",
       "</div>\n",
       "<!-- eTarget ContextAd End --></div>"
      ]
     },
     "execution_count": 20,
     "metadata": {},
     "output_type": "execute_result"
    }
   ],
   "source": [
    "from_request('https://www.origo.hu/itthon/valasztas2010/felmeresek/20100210-nezopont-intezet-orbanhoz-vandorolnak-gyurcsany-szimpatizansai.html').find('div', {'id': 'cikk'})"
   ]
  },
  {
   "cell_type": "code",
   "execution_count": 21,
   "id": "d709a09c",
   "metadata": {},
   "outputs": [
    {
     "data": {
      "text/plain": [
       "<div id=\"cikk\" xmlns:msxsl=\"urn:schemas-microsoft-com:xslt\" xmlns:user=\"http://mycompany.com/mynamespace\">\n",
       "<h1 class=\"cikk-cim\">Befutott McCain vízvezetékszerelője</h1><span class=\"cikk-szerzo\">Pethő András</span><span class=\"elvalaszt\">|</span><span class=\"cikk-datum\">2008. 10. 18., 12:46</span><span class=\"elvalaszt\">|</span><div id=\"kommentszam\"></div>\n",
       "<div id=\"cimke-input\"></div><script type=\"text/javascript\">getCikkCimkek()</script><div class=\"archiv-cikk-box\" id=\"archiv-cikk-box\" style=\"display:none\"></div><script type=\"text/javascript\"> \n",
       "\t\t\tvar strModDate = '2008. 10. 18., 12:46';\n",
       "\t\t\tif (strModDate.substr(16,1) == ':') strModDate = strModDate.substr(0,15) + '0' + strModDate.substr(15,strModDate.length);\n",
       "\t\t\tvar strNowDate = '2022. 04. 12., 13:09';\n",
       "\t\t\t\n",
       "\t\t\tvar diffYears;\n",
       "\t\t\t//var diffMonths;\n",
       "\t\t\tvar diffDays;\n",
       "\t\t\t\n",
       "\t\t\tfunction dateDiff() {\n",
       "\t\t\t\tdate1 = new Date();\n",
       "\t\t\t\tdate2 = new Date();\n",
       "\t\t\t\tdiff  = new Date();\n",
       "\t\t\t\t\n",
       "\t\t\t\tdate1temp = new Date(strModDate.substr(0,4),(strModDate.substr(6,2) - 1).toString(),strModDate.substr(10,2),strModDate.substr(15,2),strModDate.substr(18,2),00);\n",
       "\t\t\t\tdate1.setTime(date1temp.getTime());\n",
       "\t\t\t\t\n",
       "\t\t\t\tdate2temp = new Date(strNowDate.substr(0,4),(strNowDate.substr(6,2) - 1).toString(),strNowDate.substr(10,2),strNowDate.substr(15,2),strNowDate.substr(18,2),00);\n",
       "\t\t\t\tdate2.setTime(date2temp.getTime());\n",
       "\t\t\t\t\n",
       "\t\t\t\t// sets difference date to difference of first date and second date\n",
       "\t\t\t\t\n",
       "\t\t\t\tdiff.setTime(Math.abs(date1.getTime() - date2.getTime()));\n",
       "\t\t\t\t\n",
       "\t\t\t\ttimediff = diff.getTime();\n",
       "\t\t\t\t\n",
       "\t\t\t\tweeks = Math.floor(timediff / (1000 * 60 * 60 * 24 * 7));\n",
       "\t\t\t\ttimediff -= weeks * (1000 * 60 * 60 * 24 * 7);\n",
       "\t\t\t\t\n",
       "\t\t\t\tdays = Math.floor(timediff / (1000 * 60 * 60 * 24)); \n",
       "\t\t\t\ttimediff -= days * (1000 * 60 * 60 * 24);\n",
       "\t\t\t\t\n",
       "\t\t\t\thours = Math.floor(timediff / (1000 * 60 * 60)); \n",
       "\t\t\t\ttimediff -= hours * (1000 * 60 * 60);\n",
       "\t\t\t\t\n",
       "\t\t\t\tmins = Math.floor(timediff / (1000 * 60)); \n",
       "\t\t\t\ttimediff -= mins * (1000 * 60);\n",
       "\t\t\t\t\n",
       "\t\t\t\tsecs = Math.floor(timediff / 1000); \n",
       "\t\t\t\ttimediff -= secs * 1000;\n",
       "\t\t\t\t\n",
       "\t\t\t\t//alert (weeks + \" weeks, \" + days + \" days, \" + hours + \" hours, \" + mins + \" minutes, and \" + secs + \" seconds\");\n",
       "\t\t\t\tdiffDays = days + (weeks * 7);\n",
       "\t\t\t\t\n",
       "\t\t\t\treturn false; // form should never submit, returns false\n",
       "\t\t\t}\n",
       "\t\t\t\n",
       "\t\t\tfunction serviceLength() {  \n",
       "\t\t\t  var modDate = new Date(strModDate.substr(0,4),(strModDate.substr(6,2) - 1).toString(),strModDate.substr(10,2),strModDate.substr(15,2),strModDate.substr(18,2),00);\n",
       "\t\t    var nowDate = new Date(strNowDate.substr(0,4),(strNowDate.substr(6,2) - 1).toString(),strNowDate.substr(10,2),strNowDate.substr(15,2),strNowDate.substr(18,2),00);\n",
       "\t\t    var difference = (nowDate-modDate);\n",
       "\t\t    \n",
       "\t\t    diffYears = Math.floor(difference / (1000*60*60*24*365));\n",
       "\t\t    /*\n",
       "\t\t    difference -= years * (1000*60*60*24*365); \n",
       "\t\t    diffMonths = Math.floor(difference / (1000*60*60*24*30.4375));\n",
       "\t\t    */\n",
       "\t\t  }\n",
       "\t\t  \n",
       "\t\t  function getDifference() {\n",
       "\t\t  \tserviceLength();\n",
       "\t\t  \tif (diffYears == 0) {\n",
       "\t\t  \t\tdateDiff();\n",
       "\t\t  \t\tif (diffDays > 90) {\n",
       "\t\t  \t\t\tdocument.getElementById('archiv-cikk-box').style.display = 'block';\n",
       "\t\t  \t\t\tdocument.getElementById('archiv-cikk-box').innerHTML = 'Ez a cikk ' + diffDays.toString() + ' napja frissült utoljára. A benne szereplő információk a megjelenés idején pontosak voltak, de mára elavultak lehetnek.';\n",
       "\t\t  \t\t}\n",
       "\t\t  \t} else if (diffYears > 0) {\n",
       "\t\t  \t\tdocument.getElementById('archiv-cikk-box').style.display = 'block';\n",
       "\t\t  \t\tdocument.getElementById('archiv-cikk-box').innerHTML = 'Ez a cikk ' + diffYears.toString() + ' éve frissült utoljára. A benne szereplő információk a megjelenés idején pontosak voltak, de mára elavultak lehetnek.';\n",
       "\t\t  \t}\n",
       "\t\t  }\n",
       "\t\t  \n",
       "\t\t  getDifference();\n",
       "\t\t   </script><div class=\"social2011\">\n",
       "<ul class=\"social-tools\"><script src=\"https://apis.google.com/js/plusone.js\" type=\"text/javascript\">\n",
       "\t\t\t\t\t{lang: 'hu'}\n",
       "\t\t\t\t</script><li><div class=\"g-plusone\" data-annotation=\"none\" data-size=\"medium\"></div></li>\n",
       "<li><a class=\"social-twitter\" href=\"http://twitter.com/home?status=http://www.origo.hu/nagyvilag/20081017-joe-a-vizvezetekszerelo-es-john-mccain-es-barack-obama-adopolitikaja.html\" target=\"_blank\"></a></li>\n",
       "<li><a class=\"social-tumblr\" href=\"http://www.tumblr.com/share?v=3&amp;u=www.origo.hu/nagyvilag/20081017-joe-a-vizvezetekszerelo-es-john-mccain-es-barack-obama-adopolitikaja.html\" target=\"_blank\"></a></li>\n",
       "<li class=\"social-fb\"><div id=\"fb-root\"></div><script>(function(d, s, id) {\n",
       "\t\t  var js, fjs = d.getElementsByTagName(s)[0];\n",
       "\t\t  if (d.getElementById(id)) {return;}\n",
       "\t\t  js = d.createElement(s); js.id = id;\n",
       "\t\t  js.src = \"//connect.facebook.net/hu_HU/all.js#xfbml=1\";\n",
       "\t\t  fjs.parentNode.insertBefore(js, fjs);\n",
       "\t\t}(document, 'script', 'facebook-jssdk'));</script><div class=\"fb-like\" data-action=\"recommend\" data-layout=\"button_count\" data-send=\"false\" data-show-faces=\"false\" data-width=\"100\"></div></li>\n",
       "</ul>\n",
       "<ul class=\"share-tools\">\n",
       "<li><span class=\"betu-csok\"></span></li>\n",
       "<li><span class=\"betu-nov\"></span></li>\n",
       "<li><a class=\"send\" href=\"javascript:SendToFriend();\" onmouseout=\"eszkozok ('eszközök:');\" onmouseover=\"eszkozok ('küldje tovább:');\" title=\"küldje tovább ismerősének\"></a></li>\n",
       "<li><a class=\"print\" href=\"/print/amerikai-elnokvalasztas-2008/blog/kampany/20081017-joe-a-vizvezetekszerelo-es-john-mccain-es-barack-obama-adopolitikaja.html\" onmouseout=\"eszkozok ('eszközök:');\" onmouseover=\"eszkozok ('nyomtatható verzió:');\" rel=\"nofollow\" title=\"nyomtatható verzió\"></a></li>\n",
       "</ul>\n",
       "</div>\n",
       "<div id=\"leades\"><p>Az amerikai elnökjelöltek közötti adóvita szimbólumává vált a szerda esti vitában sokszor emlegetett Joe, a vízvezetékszerelő, aki olyan népszerű lett, hogy most sorban állnak nála a nagy tévécsatornák. A férfi Barack Obamának panaszkodott egy kampánygyűlésen, amelynek nyomán felkapták a republikánusok. Kiderült azonban, hogy nem minden klappol a John McCain által emlegetett történetben.</p>\n",
       "</div>\n",
       "<div id=\"kenyer-szov\">\n",
       "<div id=\"multidoboz\">\n",
       "<div class=\"multi-kep\"><img alt=\"Forrás: AFP\" border=\"0\" height=\"367\" src=\"//cdn.nwmgroups.hu/s/img/i/0810/20081017joeavizve.jpg\"/><p>Joe, a vízvezetékszerelő</p>\n",
       "</div>\n",
       "<h3>Ajánlat</h3>\n",
       "<ul>\n",
       "<p><a class=\"bold\" href=\"https://www.origo.hu/amerikai-elnokvalasztas-2008/blog/kampany/20081016-john-mccain-es-barack-obama-harmadik-utolso-tevevitaja.html\" title=\"Ideges McCain gyomrozta a vigyorgó Obamát\">Ideges McCain gyomrozta a vigyorgó Obamát</a>Tudósítás az utolsó tévévitáról</p>\n",
       "</ul>\n",
       "<div id=\"okhu_multi\" style=\"display:none;\">\n",
       "<h3 style=\"text-transform: none;\">Keresés</h3>\n",
       "<form action=\"http://www.ok.hu/clk\" id=\"multi_searchbox\" method=\"GET\" name=\"multi_searchbox\" onsubmit=\"return doOkSearch();\" style=\"display: block; background-image: url(http://origo.hu/images/kozos/kereso_uj_bg.gif); height: 44px;\"><input name=\"idx\" type=\"hidden\" value=\"1\"/><input name=\"place\" type=\"hidden\" value=\"ocsb\"/><input name=\"url\" type=\"hidden\" value=\"/katalogus?hol=1\"/><input name=\"mode\" type=\"hidden\" value=\"1\"/><input id=\"okhu_button\" onclick=\"document.forms['multi_searchbox'].submit();\" src=\"https://www.origo.hu/images/kozos/ok-keresd-multi-uj.gif\" style=\"margin-top: 10px; float: right; margin-right: 10px;\" type=\"image\"/><input id=\"ok_keresd\" name=\"q\" style=\"border-style: solid; border-color: white; border-top: 1px solid white; border-right: 1px solid white; border-bottom: 0px solid white; display: block; float: left; margin-left: 12px; width: 120px; margin-top: 13px;\" type=\"text\"/></form>\n",
       "</div><script type=\"text/javascript\">getMultiCimke()</script></div>\n",
       "<p>Az elnökjelöltek szerda esti <a href=\"https://www.origo.hu/amerikai-elnokvalasztas-2008/blog/kampany/20081016-john-mccain-es-barack-obama-harmadik-utolso-tevevitaja.html\">vitájának</a> volt egy visszatérő szereplője, Joe a vízvezetékszerelő. A republikánus John McCain említette először a nevét, amikor felidézte, hogy Obama egyik ohiói kampányrendezvényén egy Joe nevű vízvezetékszerelő beszélt arról, hogy meg akarja vásárolni a céget, amelynek dolgozik, de most gondolkodóba esett, mert a demokrata jelölt megválasztása esetén több adót kell majd fizetnie.</p>\n",
       "<p>Ennek kapcsán aztán a két jelölt ismét elvitázott azon, hogy melyikük adópolitikája lendíthet nagyobbat a gyengélkedő gazdaságon. Közben a kamerába nézve többször közvetlenül is üzentek Joenak, aki egy nap leforgása alatt országos ismertségre tett szert. A férfi és Obama beszélgetéséről készült felvétel már a vita előtt is népszerű volt konzervatív weboldalakon, most azonban Joe már állandó eleme lett a republikánus kampánynak.</p>\n",
       "<p>A népszerűségét annak köszönheti, hogy egy gyűlésen odalépett Obamához és közölte vele, meg akar vásárolni egy céget, amely évente 250-280 ezer dolláros bevételre tesz szert, majd feltette a kérdést: \"A maga adóprogramjával többet fogok fizetni, ugye?\" A demokrata elnökjelölt egyebek mellett azt válaszolta, hogy ha elosztják a vagyont, akkor az jó mindenkinek. A konzervatívok szerint ez lényegében azt jelenti, hogy Obama szocialista politikát akar folytatni.</p>\n",
       "<p>Egy nappal a vita után kiderült azonban, hogy nem teljesen pontos az, amit McCain mondott. A férfi első keresztneve például nem is Joe, hanem Samuel (teljes neve Samuel J. Wurzelbacher), és valójában nem is vízvezetékszerelő, legalábbis nem rendelkezik olyan engedéllyel, amely szükséges ehhez a tevékenységhez Ohio államban. Valóban dolgozik azonban egy vízvezetékszereléssel foglalkozó cégnél, de mivel csak két főállású dolgozója van - a tulajdonos és Wurzelbacher -, és anyagi helyzetéről keveset tudni, így nem egyértelmű, hogy valóban adóemelésre számíthatna-e Obama győzelme esetén.</p>\n",
       "<p>A demokrata elnökjelölt adócsökkentést ígér azoknak a családoknak és cégeknek, amelyek jövedelme 250 ezer dollár alatt van, felette azonban növelné a közterheket. Samuel J. Wurzelbacher a CBS televíziónak nyilatkozva azt mondta, az rémiszti meg Obama tervében, hogy miként lehet meghúzni egy határt, amely eldönti, ki fizet többet és kevesebbet. \"Mikor fogja eldönteni, hogy százezer dollár is soknak számít?\" - tette fel a kérdést a férfi, akiről csütörtökön kiderült, hogy 1200 dolláros adótartozása van, bár egy hatósági szóvivő szerint lehetséges, hogy nem az ő hibája, mert elképzelhető, hogy nem is tudott róla.</p>\n",
       "<p>Bár John McCain az egyik esti talkshowban bocsánatot kért Wurzelbachertől, amiért neki köszönhetően rászabadult a teljes amerikai média, csütörtökön több rendezvényen is emlegette őt. Például egy jótékonysági rendezvényen, ahol Obamával együtt vett részt. Ezúttal nem vitáztak, ez ugyanis egy hagyományos politikai vacsora Al Smith egykori New York-i kormányzó emlékére, amelyen az elnökjelöltek rendszerint vicces beszédet mondanak. A szerda esti vitához képest sokkal felszabadultabb McCain egyik poénja például az volt, hogy igaz a hír, kirúgta teljes kampánystábját és felvette helyettük Joet, a vízvezetékszerelőt.</p>\n",
       "<p><strong>Chicago, Illinois - Egyesült Államok</strong></p>\n",
       "<div id=\"prtnr\"></div><script language=\"javascript\">prtnrPerjel ();</script></div>\n",
       "<div id=\"comments\"></div><script type=\"text/javascript\">\n",
       "\t  \tvar MyCikk = sysuri.substr(sysuri.lastIndexOf('/') + 1, sysuri.lastIndexOf('.') - sysuri.lastIndexOf('/') - 1);\n",
       "\t\n",
       "\t\t\t\tfunction commentMeghiv () {\n",
       "\t\t\t\t\tif (foglalt==0) {\n",
       "\t\t\t\t\t\tgetComment(MyCikk, 'comments');\n",
       "\t\t\t\t\t\twindow.clearInterval(commentTimer);\n",
       "\t\t\t\t\t}\n",
       "\t\t\t\t}\n",
       "\t\t\t\t\n",
       "\t\t\t\tif (foglalt == 1) {\n",
       "\t\t\t\t\tvar commentTimer=setInterval(\"commentMeghiv ()\",500);\n",
       "\t\t\t\t}\n",
       "\t\t\t\telse {\n",
       "\t\t\t\t\tgetComment(MyCikk, 'comments');\n",
       "\t\t\t\t}\n",
       "\t\t\t\n",
       "\t\t</script><div id=\"lapozas-new\"></div>\n",
       "<div id=\"comments\"></div><script type=\"text/javascript\">\n",
       "\t\t  \tvar MyCikk = sysuri.substr(sysuri.lastIndexOf('/') + 1, sysuri.lastIndexOf('.') - sysuri.lastIndexOf('/') - 1);\n",
       "\t\t\n",
       "\t\t\t\t\tfunction commentMeghiv () {\n",
       "\t\t\t\t\t\tif (foglalt==0) {\n",
       "\t\t\t\t\t\t\tgetComment(MyCikk, 'comments');\n",
       "\t\t\t\t\t\t\twindow.clearInterval(commentTimer);\n",
       "\t\t\t\t\t\t}\n",
       "\t\t\t\t\t}\n",
       "\t\t\t\t\t\n",
       "\t\t\t\t\tif (foglalt == 1) {\n",
       "\t\t\t\t\t\tvar commentTimer=setInterval(\"commentMeghiv ()\",500);\n",
       "\t\t\t\t\t}\n",
       "\t\t\t\t\telse {\n",
       "\t\t\t\t\t\tgetComment(MyCikk, 'comments');\n",
       "\t\t\t\t\t}\n",
       "\t\t\t\t\n",
       "\t\t\t</script><div class=\"cikk-button\">\n",
       "<div class=\"cikk-button-left\"></div>\n",
       "<div class=\"cikk-button-in\"><a href=\"https://www.origo.hu\" title=\"Az [origo] legfrissebb hírei a címlapon!\">AZ [origo] LEGFRISSEBB HÍREI A CÍMLAPON: <span>KATTINTSON IDE!</span></a></div>\n",
       "<div class=\"cikk-button-right\"></div>\n",
       "</div>\n",
       "<div id=\"fb-recommend\">\n",
       "<div id=\"fb-root\"></div><script>(function(d, s, id) {\n",
       "\t\t\t  var js, fjs = d.getElementsByTagName(s)[0];\n",
       "\t\t\t  if (d.getElementById(id)) {return;}\n",
       "\t\t\t  js = d.createElement(s); js.id = id;\n",
       "\t\t\t  js.src = \"//connect.facebook.net/hu_HU/all.js#xfbml=1\";\n",
       "\t\t\t  fjs.parentNode.insertBefore(js, fjs);\n",
       "\t\t\t}(document, 'script', 'facebook-jssdk'));</script><div class=\"fb-like\" data-action=\"recommend\" data-send=\"false\" data-show-faces=\"true\" data-width=\"645\"></div>\n",
       "</div>\n",
       "<div class=\"social2011 social-foot\">\n",
       "<ul class=\"social-tools\"><script src=\"https://apis.google.com/js/plusone.js\" type=\"text/javascript\">\n",
       "\t\t\t\t\t\t{lang: 'hu'}\n",
       "\t\t\t\t\t</script><li><div class=\"g-plusone\" data-annotation=\"none\" data-size=\"medium\"></div></li>\n",
       "<li><a class=\"social-twitter\" href=\"http://twitter.com/home?status=http://www.origo.hu/nagyvilag/20081017-joe-a-vizvezetekszerelo-es-john-mccain-es-barack-obama-adopolitikaja.html\" target=\"_blank\"></a></li>\n",
       "<li><a class=\"social-tumblr\" href=\"http://www.tumblr.com/share?v=3&amp;u=www.origo.hu/nagyvilag/20081017-joe-a-vizvezetekszerelo-es-john-mccain-es-barack-obama-adopolitikaja.html\" target=\"_blank\"></a></li>\n",
       "</ul>\n",
       "<ul class=\"share-tools\">\n",
       "<li><a class=\"send\" href=\"javascript:SendToFriend();\" onmouseout=\"eszkozok ('eszközök:');\" onmouseover=\"eszkozok ('küldje tovább:');\" title=\"küldje tovább ismerősének\"></a></li>\n",
       "<li><a class=\"print\" href=\"/print/amerikai-elnokvalasztas-2008/blog/kampany/20081017-joe-a-vizvezetekszerelo-es-john-mccain-es-barack-obama-adopolitikaja.html\" onmouseout=\"eszkozok ('eszközök:');\" onmouseover=\"eszkozok ('nyomtatható verzió:');\" rel=\"nofollow\" title=\"nyomtatható verzió\"></a></li>\n",
       "</ul>\n",
       "</div>\n",
       "</div>"
      ]
     },
     "execution_count": 21,
     "metadata": {},
     "output_type": "execute_result"
    }
   ],
   "source": [
    "from_request('https://www.origo.hu/amerikai-elnokvalasztas-2008/blog/kampany/20081017-joe-a-vizvezetekszerelo-es-john-mccain-es-barack-obama-adopolitikaja.html').find('div', {'id': 'cikk'})"
   ]
  },
  {
   "cell_type": "markdown",
   "id": "88c5f9c4",
   "metadata": {},
   "source": [
    "KNOWN BAD and BLACKLISTED link testing"
   ]
  },
  {
   "cell_type": "code",
   "execution_count": 17,
   "id": "f626078a",
   "metadata": {},
   "outputs": [],
   "source": [
    "with open('origo_BLACKLIST.txt', 'r') as infile:\n",
    "    blacklisted = infile.read().splitlines()"
   ]
  },
  {
   "cell_type": "code",
   "execution_count": 19,
   "id": "cad53acb",
   "metadata": {},
   "outputs": [],
   "source": [
    "for b in w.url_index:\n",
    "    if '' in b and b not in blacklisted:\n",
    "        print(b)"
   ]
  },
  {
   "cell_type": "code",
   "execution_count": null,
   "id": "18524216",
   "metadata": {},
   "outputs": [],
   "source": [
    "with open('known_bad_urls.txt', 'r') as infile:\n",
    "    known_bad = infile.read().splitlines() \n",
    "not_bad = []\n",
    "in_word = []\n",
    "for link in known_bad:\n",
    "    if 'archiv' in link:\n",
    "        link = link.replace('/archiv/', '/teve/')\n",
    "\n",
    "        soup = BeautifulSoup(requests.get(link).text, 'html.parser')\n",
    "        if soup.find('div', {'class': 'nwm-404'}) is not None:\n",
    "            print(link)\n",
    "            not_bad.append(link)\n",
    "\n",
    "        i1 = link.find('-')\n",
    "        i2 = link[i1:].find('-')\n",
    "        find_word = link[i1:i1+i2]\n",
    "        if find_word not in soup.get_text():\n",
    "            in_word.append(link)\n"
   ]
  },
  {
   "cell_type": "code",
   "execution_count": 57,
   "id": "7e72cac6",
   "metadata": {},
   "outputs": [
    {
     "name": "stdout",
     "output_type": "stream",
     "text": [
      "https://www.origo.hu/teve/20020812adallas.xml.html\n"
     ]
    }
   ],
   "source": [
    "not_tv = []\n",
    "for link in blacklisted:\n",
    "    link = link.replace('/archivum/', '/teve/')\n",
    "\n",
    "    soup = BeautifulSoup(requests.get(link).text, 'html.parser')\n",
    "    if soup.find('div', {'class': 'nwm-404'}) is not None:\n",
    "        print(link)\n",
    "        not_tv.append(link)\n"
   ]
  },
  {
   "cell_type": "code",
   "execution_count": 59,
   "id": "3b2e1f46",
   "metadata": {},
   "outputs": [
    {
     "data": {
      "text/plain": [
       "'https://www.origo.hu/archivum/20131022-kilencmilliot-vittek-el-gundel-takacs-musorabol.html'"
      ]
     },
     "execution_count": 59,
     "metadata": {},
     "output_type": "execute_result"
    }
   ],
   "source": [
    "blacklisted[0]"
   ]
  },
  {
   "cell_type": "code",
   "execution_count": 60,
   "id": "32824911",
   "metadata": {},
   "outputs": [],
   "source": [
    "not_tv_2 = []\n",
    "for link in blacklisted:\n",
    "    link = link.replace('/archivum/', '/teve/')\n",
    "\n",
    "    soup = BeautifulSoup(requests.get(link).text, 'html.parser')\n",
    "known_bad_list\n"
   ]
  },
  {
   "cell_type": "markdown",
   "id": "d92d280c",
   "metadata": {},
   "source": [
    "writing out dictionary python file"
   ]
  },
  {
   "cell_type": "code",
   "execution_count": 7,
   "id": "b158f79c",
   "metadata": {},
   "outputs": [],
   "source": [
    "with open('origo_usable_urls.tsv', 'r') as tsvin, open('origo_usable_links_dict.txt', 'w') as txtout:\n",
    "    link_dict = {c.split('\\t')[1]:c.split('\\t')[2] for c in tsvin.read().splitlines()}\n",
    "    print('ORIGO_URL_CHANGES =\\n', file=txtout)\n",
    "    print(str(link_dict), file=txtout)\n",
    "\n",
    "\n",
    "\n"
   ]
  },
  {
   "cell_type": "code",
   "execution_count": 5,
   "id": "99daf7f4",
   "metadata": {},
   "outputs": [
    {
     "name": "stdout",
     "output_type": "stream",
     "text": [
      "{'a': 'MISI', 'b': 'FERI'}\n"
     ]
    }
   ],
   "source": [
    "a = {'a': 'MISI', \n",
    "'b': 'FERI'}\n",
    "print(str(a))"
   ]
  },
  {
   "cell_type": "code",
   "execution_count": 6,
   "id": "b6aa5920",
   "metadata": {},
   "outputs": [],
   "source": [
    "with open('dummy.txt', 'w') as dummy:\n",
    "    dummy.write(str(a))"
   ]
  },
  {
   "cell_type": "markdown",
   "id": "8ccc6225",
   "metadata": {},
   "source": [
    "Check palyabea"
   ]
  },
  {
   "cell_type": "code",
   "execution_count": 25,
   "id": "3c413bc0",
   "metadata": {},
   "outputs": [
    {
     "data": {
      "text/plain": [
       "[<a href=\"https://cimkezes.origo.hu/cimkek/lamm-david/index.html?tag=Lamm+D%E1vid\" title=\"Lamm Dávid\">Lamm Dávid</a>,\n",
       " <a href=\"https://cimkezes.origo.hu/cimkek/barcza-horvath-janos/index.html?tag=Barcza+Horv%E1th+J%E1nos\" title=\"Barcza Horváth János\">Barcza Horváth János</a>,\n",
       " <a href=\"https://cimkezes.origo.hu/cimkek/palya-bea/index.html?tag=Palya+Bea\" title=\"Palya Bea\">Palya Bea</a>,\n",
       " <a href=\"https://cimkezes.origo.hu/cimkek/des-andras/index.html?tag=D%E9s+Andr%E1s\" title=\"Dés András\">Dés András</a>,\n",
       " <a href=\"https://cimkezes.origo.hu/cimkek/budapest/index.html?tag=Budapest\" title=\"Budapest\">Budapest</a>,\n",
       " <a href=\"https://cimkezes.origo.hu/cimkek/koncert/index.html?tag=koncert\" title=\"koncert\">koncert</a>,\n",
       " <a href=\"https://cimkezes.origo.hu/cimkek/proba/index.html?tag=pr%F3ba\" title=\"próba\">próba</a>]"
      ]
     },
     "execution_count": 25,
     "metadata": {},
     "output_type": "execute_result"
    }
   ],
   "source": [
    "from_request(palyabea).find('body', {'id':'!BODY_ID'}).find('div', {'id':'left'}).find_all('a', {'href':True, 'title':True, 'class':False})"
   ]
  },
  {
   "cell_type": "code",
   "execution_count": 22,
   "id": "94cfe76d",
   "metadata": {},
   "outputs": [],
   "source": [
    "pubdate = from_request(palyabea).find('body', {'id':'!BODY_ID'}).find('div', {'class': 'date'})\n",
    "parse_date(pubdate.get_text(strip=True), \"%Y. %B. %e.\")"
   ]
  },
  {
   "cell_type": "code",
   "execution_count": 15,
   "id": "af800615",
   "metadata": {},
   "outputs": [
    {
     "name": "stdout",
     "output_type": "stream",
     "text": [
      "4 https://www.origo.hu/sport/kozvetites/20211202-kezilabda-noi-vilagbajnoksag-magyarorszag-szlovakia-elo-kozvetites.html\n",
      "3 https://www.origo.hu/sport/olimpia/galeria/20210726-gordeszka-latvanyos-kepek.html\n",
      "1 https://www.origo.hu/auto/20180523-maris-kitiltjak-a-regi-dizelautokat-egy-nemet-varosbol.html\n",
      "1 https://www.origo.hu/techbazis/20080321-bittorrentes-rivalist-kap-az-apple-tv.html\n",
      "2 https://www.origo.hu/sport/futball/20220315-ronaldo-ismet-bizonyithat-kedvenc-ellenfele-ellen-otthon-juthat-tovabb-a-bl-titkos-eselyese.html\n",
      "3 https://www.origo.hu/sport/galeria/20220317-a-szexi-luisinha-barosa-oliveira-mclaren-lando-norris-kepek-fotok-galeria.html\n",
      "1 https://www.origo.hu/auto/20150904-telekocsi-migrans-mav-vonat.html\n",
      "2 https://www.origo.hu/gazdasag/hirek/20091207-csokkenessel-nyitottak-a-new-yorki-tozsdek.html\n",
      "2 https://www.origo.hu/gazdasag/hirek/20001011torlend1.html\n",
      "5 https://www.origo.hu/itthon/valasztas2010/20100210-ujabb-feltort-levelszekrenyek-utan-nyomoz-a-rendorseg.html\n",
      "6 https://www.origo.hu/palyabea/post/20100909-elso-proba-a-nagykoncertre.html\n"
     ]
    }
   ],
   "source": [
    "# format 1 bs.find('header', class_='article-head')\n",
    "# format 2 bs.find('header', {'id': 'article-head'})\n",
    "# format 3 bs.find('body', {'class': 'gallery'})\n",
    "# format 4 bs.find('div', class_='sportonline_header')\n",
    "# format 5 bs.find('div', {'id': 'cikk'})\n",
    "for c, l in enumerate(link_list):\n",
    "    bs = from_request(l)\n",
    "    if bs.find('header', class_='article-head') is not None: print(1, l)\n",
    "    if bs.find('header', {'id': 'article-head'}) is not None: print(2, l)\n",
    "    if bs.find('body', {'class': 'gallery'}) is not None: print(3, l)\n",
    "    if bs.find('div', class_='sportonline_header') is not None: print(4, l)\n",
    "    if bs.find('div', {'id': 'cikk'}) is not None: print(5, l)\n",
    "    if bs.find('body', {'id':'!BODY_ID'}) is not None: print(6, l)"
   ]
  },
  {
   "cell_type": "markdown",
   "id": "50cc5c8f",
   "metadata": {},
   "source": [
    "Meta json"
   ]
  },
  {
   "cell_type": "code",
   "execution_count": 26,
   "id": "4beb014e",
   "metadata": {},
   "outputs": [],
   "source": [
    "a = [1,2,3,4,5]"
   ]
  },
  {
   "cell_type": "code",
   "execution_count": 30,
   "id": "3a8bc01a",
   "metadata": {},
   "outputs": [],
   "source": [
    "if len(a) >= 5+1 and a[5] > 2:\n",
    "    print('he')"
   ]
  }
 ],
 "metadata": {
  "kernelspec": {
   "display_name": "Python 3.8.10 64-bit",
   "language": "python",
   "name": "python3"
  },
  "language_info": {
   "codemirror_mode": {
    "name": "ipython",
    "version": 3
   },
   "file_extension": ".py",
   "mimetype": "text/x-python",
   "name": "python",
   "nbconvert_exporter": "python",
   "pygments_lexer": "ipython3",
   "version": "3.8.10"
  },
  "vscode": {
   "interpreter": {
    "hash": "916dbcbb3f70747c44a77c7bcd40155683ae19c65e1c03b4aa3499c5328201f1"
   }
  }
 },
 "nbformat": 4,
 "nbformat_minor": 5
}
