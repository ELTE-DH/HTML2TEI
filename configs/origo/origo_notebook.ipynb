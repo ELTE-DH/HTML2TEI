{
 "cells": [
  {
   "cell_type": "code",
   "execution_count": 61,
   "id": "4b6ffe0b",
   "metadata": {},
   "outputs": [],
   "source": [
    "import re\n",
    "import json\n",
    "import locale\n",
    "import requests\n",
    "import pandas as pd\n",
    "from mplogger import Logger\n",
    "from datetime import datetime\n",
    "from bs4 import BeautifulSoup\n",
    "from collections import Counter\n",
    "from html2tei import parse_date\n",
    "\n",
    "from html2tei import parse_date\n",
    "from warcio.archiveiterator import ArchiveIterator\n",
    "from webarticlecurator import WarcCachingDownloader\n",
    "\n",
    "from origo_specific import get_meta_from_articles_spec as get_meta"
   ]
  },
  {
   "cell_type": "markdown",
   "id": "968692e1",
   "metadata": {},
   "source": [
    "## NOTES\n",
    "- Ezzekkel a galéria cikkekkel mi lesz? https://www.origo.hu/auto/galeria/20220317-volkswagen-t7-multivan-etsi-teszt-2022-galeria.html"
   ]
  },
  {
   "cell_type": "code",
   "execution_count": 28,
   "id": "c3c09edb",
   "metadata": {},
   "outputs": [],
   "source": [
    "def response_warc_record_gen(warc_filename):\n",
    "    archive_base = ArchiveIterator(open(warc_filename, 'rb'))\n",
    "    for rec in archive_base:\n",
    "        if rec.rec_type == 'response':\n",
    "            article_url = rec.rec_headers.get_header('WARC-Target-URI')\n",
    "            raw_html = rec.content_stream().read()\n",
    "            yield article_url, raw_html\n",
    "\n",
    "def response_warc_record_gen(warc_filename):\n",
    "    archive_base = ArchiveIterator(open(warc_filename, 'rb'))\n",
    "    for rec in archive_base:\n",
    "        if rec.rec_type == 'response':\n",
    "            article_url = rec.rec_headers.get_header('WARC-Target-URI')\n",
    "            raw_html = rec.content_stream().read()\n",
    "            yield article_url, raw_html\n",
    "\n",
    "def extract_resp_record_data(resp):\n",
    "    \"\"\"Extract response date, WARC ID and raw HTML from a WARC response record\"\"\"\n",
    "    warc_response_date = resp.rec_headers.get_header('WARC-Date')\n",
    "    if '.' in warc_response_date:\n",
    "        date_format = '%Y-%m-%dT%H:%M:%S.%fZ'\n",
    "    else:\n",
    "        date_format = '%Y-%m-%dT%H:%M:%SZ'\n",
    "    warc_response_datetime = datetime.strptime(warc_response_date, date_format)\n",
    "    warc_id = resp.rec_headers.get_header('WARC-Record-ID')\n",
    "    raw_html = resp.content_stream().read().decode(resp.rec_headers.get_header('WARC-X-Detected-Encoding'))\n",
    "\n",
    "    return warc_response_datetime, warc_id, raw_html"
   ]
  },
  {
   "cell_type": "code",
   "execution_count": 5,
   "id": "3304a108",
   "metadata": {},
   "outputs": [
    {
     "name": "stderr",
     "output_type": "stream",
     "text": [
      "2022-03-24 12:57:34,120 INFO: Logging started\n",
      "2022-03-24 12:57:34,121 INFO: Creating index for ../../warcs_dir/origo-articles_new3.warc.gz...\n",
      "2022-03-24 13:01:42,063 INFO: Index successfully created.\n"
     ]
    }
   ],
   "source": [
    "logger = Logger()\n",
    "warc_filename = '../../warcs_dir/origo-articles_new3.warc.gz'\n",
    "w = WarcCachingDownloader(warc_filename, None, logger, just_cache=True, download_params={'stay_offline': True})"
   ]
  },
  {
   "cell_type": "code",
   "execution_count": 45,
   "id": "42d69357",
   "metadata": {},
   "outputs": [],
   "source": [
    "link = list(w.url_index)[22222]"
   ]
  },
  {
   "cell_type": "code",
   "execution_count": 36,
   "id": "4f39cb7e",
   "metadata": {},
   "outputs": [
    {
     "data": {
      "text/plain": [
       "729885"
      ]
     },
     "execution_count": 36,
     "metadata": {},
     "output_type": "execute_result"
    }
   ],
   "source": [
    "len(w.url_index\n",
    ")"
   ]
  },
  {
   "cell_type": "code",
   "execution_count": 75,
   "id": "49125a41",
   "metadata": {},
   "outputs": [
    {
     "name": "stderr",
     "output_type": "stream",
     "text": [
      "2022-03-24 15:30:51,806 WARNING: https://www.origo.hu/sport/egyeni/20120223-klicsko-rendezne-a-szamlat-chisoraval.html: ARTICLE HEAD NOT FOUND!\n",
      "2022-03-24 15:30:51,809 WARNING: https://www.origo.hu/sport/egyeni/20120223-klicsko-rendezne-a-szamlat-chisoraval.html: ARTICLE INFO NOT FOUND!\n",
      "2022-03-24 15:30:51,811 WARNING: https://www.origo.hu/sport/egyeni/20120223-klicsko-rendezne-a-szamlat-chisoraval.html: ARTICLE BODY NOT FOUND!\n"
     ]
    }
   ],
   "source": [
    "# FROM WARC\n",
    "_, _, resp = w.get_records(link4)\n",
    "warc_response_datetime, warc_id, raw_html = extract_resp_record_data(resp)\n",
    "soup = BeautifulSoup(raw_html, 'lxml')\n",
    "get_meta(logger, link, soup)\n"
   ]
  },
  {
   "cell_type": "code",
   "execution_count": 31,
   "id": "a076f536",
   "metadata": {},
   "outputs": [
    {
     "name": "stdout",
     "output_type": "stream",
     "text": [
      "Ezért veszélyes az LMBTQ-propaganda a gyerekekre\n",
      "['Origo']\n",
      "2022-03-17 14:57:00\n",
      "Itthon\n",
      "['LMBTQ', 'LMBTQ-propaganda', 'LMBTQ-lobbi']\n"
     ]
    }
   ],
   "source": [
    "l, raw_html = next(response_warc_record_gen(warc_filename))\n",
    "bs = BeautifulSoup(raw_html, 'lxml')\n",
    "get_meta(logger, l, bs)"
   ]
  },
  {
   "cell_type": "code",
   "execution_count": 74,
   "id": "3b09ce5c",
   "metadata": {},
   "outputs": [],
   "source": [
    "link2 = 'https://www.origo.hu/sport/csapat/20220307-kezilabda-az-ihf-is-kizarta-az-oroszokat-es-a-feheroroszokat.html'\n",
    "link3 = 'https://www.origo.hu/sport/futball/20220317-labdarugas-as-roma-nehezen-jutott-tovabb-a-konferencia-ligaban.html'\n",
    "link4 = 'https://www.origo.hu/sport/galeria/20220317-a-szexi-luisinha-barosa-oliveira-mclaren-lando-norris-kepek-fotok-galeria.html'"
   ]
  },
  {
   "cell_type": "code",
   "execution_count": 43,
   "id": "9ed032ff",
   "metadata": {},
   "outputs": [],
   "source": [
    "article_head = soup.find('header', class_='article-head')"
   ]
  },
  {
   "cell_type": "code",
   "execution_count": 77,
   "id": "39b79fb6",
   "metadata": {},
   "outputs": [],
   "source": [
    "bs = soup"
   ]
  },
  {
   "cell_type": "code",
   "execution_count": 89,
   "id": "3669ace8",
   "metadata": {},
   "outputs": [
    {
     "data": {
      "text/plain": [
       "13154"
      ]
     },
     "execution_count": 89,
     "metadata": {},
     "output_type": "execute_result"
    }
   ],
   "source": [
    "str(bs).find('2022031727.jpg')"
   ]
  },
  {
   "cell_type": "code",
   "execution_count": 88,
   "id": "c17322cb",
   "metadata": {},
   "outputs": [
    {
     "data": {
      "text/plain": [
       "'ght=\"1350\" data-src=\"https://cdn.nwmgroups.hu/s/img/i/2203//2022031716.jpg\" data-width=\"1080\" src=\"/'"
      ]
     },
     "execution_count": 88,
     "metadata": {},
     "output_type": "execute_result"
    }
   ],
   "source": [
    "str(bs)[11300:11400]"
   ]
  },
  {
   "cell_type": "code",
   "execution_count": 90,
   "id": "7b12de06",
   "metadata": {},
   "outputs": [
    {
     "data": {
      "text/plain": [
       "'350\" data-src=\"https://cdn.nwmgroups.hu/s/img/i/2203//2022031727.jpg\" data-width=\"1080\" src=\"//cdn.nwmgroups.hu/s/img/blank.png\"/></div>\\n<div class=\"caption-wrapper\">\\n<div class=\"container\">\\n<div class=\"row\">\\n<div class=\"col-sm-10 col-sm-offset-1 col-md-8 col-md-offset-2 nopadding\">\\n<div class=\"capt'"
      ]
     },
     "execution_count": 90,
     "metadata": {},
     "output_type": "execute_result"
    }
   ],
   "source": [
    "str(bs)[13100:13400]"
   ]
  }
 ],
 "metadata": {
  "kernelspec": {
   "display_name": "Python 3 (ipykernel)",
   "language": "python",
   "name": "python3"
  },
  "language_info": {
   "codemirror_mode": {
    "name": "ipython",
    "version": 3
   },
   "file_extension": ".py",
   "mimetype": "text/x-python",
   "name": "python",
   "nbconvert_exporter": "python",
   "pygments_lexer": "ipython3",
   "version": "3.8.0"
  }
 },
 "nbformat": 4,
 "nbformat_minor": 5
}
